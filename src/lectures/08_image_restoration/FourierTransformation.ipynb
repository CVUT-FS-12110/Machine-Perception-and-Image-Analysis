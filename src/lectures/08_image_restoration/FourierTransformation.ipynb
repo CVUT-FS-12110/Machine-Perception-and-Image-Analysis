{
 "cells": [
  {
   "cell_type": "markdown",
   "metadata": {},
   "source": [
    "# Fourier transformation"
   ]
  },
  {
   "cell_type": "markdown",
   "metadata": {},
   "source": [
    "Any signal ( e.g. image) can be expressed as a sum of series of sinusoids (sinusoidal variations in brightness across image). Each signal can be represented using: \n",
    "\n",
    "\n",
    "1. spatial frequency: the frequency across space (the x-axis in this case) with which the brightness modulates.\n",
    "2. magnitude (positive or negative): corresponds to contrast, or the difference between the darkest and brightest peaks of the image. A negative magnitude represents a contrast-reversal.\n",
    "3. phase: represents how the wave is shifted relative to the origin.\n",
    "\n",
    "If $f(x,y)$ is continuous function with real variables $x$ and $y$, the 2D Fourier transform $F(u,v)$ can be expressed as follows:\n",
    "\n",
    "$\\begin{equation}\n",
    "F(u, v) = \\int_{-\\infty}^{\\infty} \\int_{-\\infty}^{\\infty} f(x,y) \\exp[-i 2 \\pi (ux + vy)] \\, dx \\, dy\n",
    "\\end{equation}$\n",
    "\n",
    "The inverse Fourher transform in 2D:\n",
    "\n",
    "$\\begin{equation}\n",
    "f(x, y) = \\int_{-\\infty}^{\\infty} \\int_{-\\infty}^{\\infty} F(u,v) \\exp[i 2 \\pi (ux + vy)] \\, du \\, dv\n",
    "\\end{equation}$\n",
    "\n",
    "A Fourier transform encodes a whole series of sinusoids through a range of spatial frequencies from zero (i.e. no modulation, i.e. the average brightness of the whole image) all the way up to the “nyquist frequency”, i.e. the highest spatial frequency that can be encoded in the digital image, which is related to the resolution, or size of the pixels. The Fourier transform encodes all of the spatial frequencies present in an image simultaneously as follows. A signal containing only a single spatial frequency of frequency f is plotted as a single peak at point f along the spatial frequency axis, the height of that peak corresponding to the amplitude, or contrast of that sinusoidal signal.\n",
    "Image enhancement using Fourier transform\n",
    "\n"
   ]
  },
  {
   "cell_type": "code",
   "execution_count": null,
   "metadata": {},
   "outputs": [],
   "source": [
    "import cv2\n",
    "import skimage\n",
    "import numpy as np\n",
    "import matplotlib.pyplot as plt\n",
    "from copy import copy"
   ]
  },
  {
   "cell_type": "code",
   "execution_count": null,
   "metadata": {},
   "outputs": [],
   "source": [
    "img = skimage.io.imread('https://github.com/CVUT-FS-12110/Machine-Perception-and-Image-Analysis/blob/master/src/lectures/08_image_restoration/data/tower.jpg?raw=true')\n",
    "img =  cv2.cvtColor(img, cv2.COLOR_RGB2GRAY)\n",
    "fig = plt.figure(figsize= (10,10))\n",
    "plt.imshow(img, cmap='gray');"
   ]
  },
  {
   "cell_type": "code",
   "execution_count": null,
   "metadata": {},
   "outputs": [],
   "source": [
    "f = np.fft.fft2(img)\n",
    "fshift = np.fft.fftshift(f)\n",
    "magnitude_spectrum = 20*np.log(np.abs(fshift))\n",
    "\n",
    "fig = plt.figure(figsize= (10,10))\n",
    "plt.subplot(121),plt.imshow(img, cmap = 'gray')\n",
    "plt.title('Input Image'), plt.xticks([]), plt.yticks([])\n",
    "plt.subplot(122),plt.imshow(magnitude_spectrum, cmap = 'gray')\n",
    "plt.title('Magnitude Spectrum'), plt.xticks([]), plt.yticks([])"
   ]
  },
  {
   "cell_type": "markdown",
   "metadata": {},
   "source": [
    "## High-pass filtr\n",
    "\n",
    "Highpass filtering sharpens the image by attenuating the low frequencies and leaving the high frequencies of the Fourier transform relatively unchanged. This filter also amplifies noise in the image. It allow high frequency components of image to pass through. Highpass filter can improve image by sharpening details, however, it can also degrade the image quality. "
   ]
  },
  {
   "cell_type": "code",
   "execution_count": null,
   "metadata": {},
   "outputs": [],
   "source": [
    "mask_hpf = np.ones(fshift.shape)\n",
    "center_coordinates = (fshift.shape[1]//2, fshift.shape[0]//2)\n",
    "radius = 10\n",
    "color = 0\n",
    "thickness = -1\n",
    "mask_hpf = cv2.circle(mask_hpf, center_coordinates, radius, color, thickness)\n",
    "\n",
    "fft_hpf = copy(fshift)\n",
    "magnitude_spectrum_hpf = copy(magnitude_spectrum)\n",
    "\n",
    "\n",
    "fft_hpf[mask_hpf == 0] = 0\n",
    "magnitude_spectrum_hpf[mask_hpf == 0] = 0\n",
    "plt.imshow(magnitude_spectrum_hpf, cmap='gray')"
   ]
  },
  {
   "cell_type": "code",
   "execution_count": null,
   "metadata": {},
   "outputs": [],
   "source": [
    "f_ishift_hpf = np.fft.ifftshift(fft_hpf)\n",
    "img_hpf = np.fft.ifft2(f_ishift_hpf)\n",
    "img_hpf = np.real(img_hpf)\n",
    "img_hpf[img_hpf<0] = 0\n",
    "plt.imshow(img_hpf, cmap='gray')"
   ]
  },
  {
   "cell_type": "markdown",
   "metadata": {},
   "source": [
    "## Low-pass filtr\n",
    "\n",
    "Lowpass filters in general smooths out noise in the image."
   ]
  },
  {
   "cell_type": "code",
   "execution_count": null,
   "metadata": {},
   "outputs": [],
   "source": [
    "mask_lpf = np.zeros(fshift.shape)\n",
    "center_coordinates = (fshift.shape[1]//2, fshift.shape[0]//2)\n",
    "radius = 10\n",
    "color = 1\n",
    "thickness = -1\n",
    "mask_lpf = cv2.circle(mask_lpf, center_coordinates, radius, color, thickness)\n",
    "\n",
    "fft_lpf = copy(fshift)\n",
    "magnitude_spectrum_lpf = copy(magnitude_spectrum)\n",
    "\n",
    "fft_lpf[mask_lpf == 0] = 0\n",
    "magnitude_spectrum_lpf[mask_lpf == 0] = 0\n",
    "plt.imshow(magnitude_spectrum_lpf, cmap='gray')"
   ]
  },
  {
   "cell_type": "code",
   "execution_count": null,
   "metadata": {},
   "outputs": [],
   "source": [
    "f_ishift_lpf = np.fft.ifftshift(fft_lpf)\n",
    "img_lpf = np.fft.ifft2(f_ishift_lpf)\n",
    "img_lpf = np.real(img_lpf)\n",
    "plt.imshow(img_lpf, cmap='gray')"
   ]
  },
  {
   "cell_type": "markdown",
   "metadata": {},
   "source": [
    "## FFT and Image restoration - Artifacts removal\n",
    "\n",
    "The task is to remove artifacts in the image of a cameraman. The Frequency domain clearly shows regular artifacts. The task is to remove (set to zero) those frequencies to restore image. You should find and remove white artifacts in frequency domain. You should use the features of the error (repetition, symmetry). "
   ]
  },
  {
   "cell_type": "code",
   "execution_count": null,
   "metadata": {},
   "outputs": [],
   "source": [
    "fft_org =  cv2.cvtColor(cv2.imread(\"data/fft_org.png\"), cv2.COLOR_BGR2GRAY)\n",
    "fig = plt.figure(figsize= (10,10))\n",
    "plt.imshow(fft_org, cmap='gray');"
   ]
  },
  {
   "cell_type": "code",
   "execution_count": null,
   "metadata": {},
   "outputs": [],
   "source": [
    "f_org = np.fft.fft2(fft_org)\n",
    "fshift_org = np.fft.fftshift(f_org)\n",
    "magnitude_spectrum_org = 20*np.log(np.abs(fshift_org))\n",
    "\n",
    "fig = plt.figure(figsize= (10,10))\n",
    "plt.subplot(121),plt.imshow(fft_org, cmap = 'gray')\n",
    "plt.title('Input Image'), plt.xticks([]), plt.yticks([])\n",
    "plt.subplot(122),plt.imshow(magnitude_spectrum_org, cmap = 'gray')\n",
    "plt.title('Magnitude Spectrum'), plt.xticks([]), plt.yticks([])"
   ]
  },
  {
   "cell_type": "code",
   "execution_count": null,
   "metadata": {},
   "outputs": [],
   "source": [
    "img_2 =  cv2.cvtColor(cv2.imread(\"data/fft_1.png\"), cv2.COLOR_BGR2GRAY)\n",
    "fig = plt.figure(figsize= (10,10))\n",
    "plt.imshow(img_2, cmap='gray');"
   ]
  },
  {
   "cell_type": "code",
   "execution_count": null,
   "metadata": {},
   "outputs": [],
   "source": [
    "f_2 = np.fft.fft2(img_2)\n",
    "fshift_2 = np.fft.fftshift(f_2)\n",
    "magnitude_spectrum_2 = 20*np.log(np.abs(fshift_2))\n",
    "\n",
    "fig = plt.figure(figsize= (10,10))\n",
    "plt.subplot(121)\n",
    "plt.imshow(img_2, cmap = 'gray')\n",
    "plt.title('Input Image'), plt.xticks([]), plt.yticks([])\n",
    "plt.subplot(122)\n",
    "plt.imshow(magnitude_spectrum_2, cmap = 'gray')\n",
    "plt.title('Magnitude Spectrum'), plt.xticks([]), plt.yticks([])"
   ]
  }
 ],
 "metadata": {
  "kernelspec": {
   "display_name": "Python 3 (ipykernel)",
   "language": "python",
   "name": "python3"
  },
  "language_info": {
   "codemirror_mode": {
    "name": "ipython",
    "version": 3
   },
   "file_extension": ".py",
   "mimetype": "text/x-python",
   "name": "python",
   "nbconvert_exporter": "python",
   "pygments_lexer": "ipython3",
   "version": "3.10.13"
  }
 },
 "nbformat": 4,
 "nbformat_minor": 4
}
