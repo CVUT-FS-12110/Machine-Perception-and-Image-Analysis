{
 "cells": [
  {
   "cell_type": "markdown",
   "metadata": {},
   "source": [
    "# Homework 2 - histograms, histogram equalisation, histogram matching"
   ]
  },
  {
   "cell_type": "markdown",
   "metadata": {},
   "source": [
    "## Subtask 1"
   ]
  },
  {
   "cell_type": "markdown",
   "metadata": {},
   "source": [
    "Your homework is to implement two prepared functions:\n",
    "   1. **range_by_quantiles**\n",
    "   2. **transfrom_by_lut**\n",
    "And to plot simillar image shown as result (to check histogram).\n",
    "  \n",
    "Function **range_by_quantiles** finds image low quantil end and high quantil start based on provided probabilities. Function **transfrom_by_lut** transformes grayscaled image based on found low quantil end and high quantil start.\n",
    "\n",
    "Function **transform_by_lut should** should transform image based on this formula:\n",
    "\n",
    "$$\n",
    "f(x)= \\left\\{\n",
    "\\begin{array}{ll}\n",
    "      0.0 & x < x_{low} \\\\\n",
    "      1.0 & x > x_{high} \\\\\n",
    "      \\frac{1.0}{x_{high} - x_{low}}(x - x_{low}) & otherwise \\\\\n",
    "\\end{array} \n",
    "\\right.\n",
    "$$\n",
    "\n",
    "![example](data/hw1_function.svg)\n",
    "\n",
    "If you would plot images and histograms, solution should look similar to this:\n",
    "\n",
    "![example](data/hw1_example.svg)"
   ]
  },
  {
   "cell_type": "code",
   "execution_count": 11,
   "metadata": {},
   "outputs": [],
   "source": [
    "import cv2 as cv\n",
    "import numpy as np\n",
    "import matplotlib.pyplot as plt\n",
    "import os"
   ]
  },
  {
   "cell_type": "code",
   "execution_count": 12,
   "metadata": {},
   "outputs": [],
   "source": [
    "def range_by_quantiles(img, p_low, p_high):\n",
    "    \"\"\" Function finds quantiles based on p_low and p_high\n",
    "    \n",
    "    Args:\n",
    "        img (np.array): 2D matrix (numbers from 0.0 - 1.0) representing\n",
    "            black&white image\n",
    "        p_low (float): low quantile to map it to 0.0\n",
    "        p_high (float): high quantile to map it to 1.0\n",
    "    \n",
    "    Returns:\n",
    "        x_low (float): point where quantil defined by p_low ends\n",
    "        x_high (float): point where quantil defined by p_high starts\n",
    "    \"\"\"\n",
    "    # YOUR IMPLEMENTATION HERE (also change return)\n",
    "    return \"do some magic\"\n",
    "\n",
    "def transform_by_lut(img, x_low, x_high):\n",
    "    \"\"\" Function transformes image based x_low and x_high\n",
    "    \n",
    "    Args:\n",
    "        img (np.array): 2D matrix (numbers from 0.0 - 1.0) representing\n",
    "            black&white image\n",
    "        x_low (float): point where low quantil ends\n",
    "        x_high (float): point where high quantil starts\n",
    "    \n",
    "    Returns:\n",
    "        transformed image\n",
    "    \"\"\"\n",
    "    # YOUR IMPLEMENTATION HERE (also change return)\n",
    "    return \"do some magic\""
   ]
  },
  {
   "cell_type": "code",
   "execution_count": 13,
   "metadata": {},
   "outputs": [
    {
     "ename": "ValueError",
     "evalue": "too many values to unpack (expected 2)",
     "output_type": "error",
     "traceback": [
      "\u001b[1;31m---------------------------------------------------------------------------\u001b[0m",
      "\u001b[1;31mValueError\u001b[0m                                Traceback (most recent call last)",
      "\u001b[1;32mc:\\Users\\apeichl\\source\\Machine-Perception-and-Image-Analysis\\src\\lectures\\02_histograms\\histograms_assignment.ipynb Cell 6\u001b[0m line \u001b[0;36m6\n\u001b[0;32m      <a href='vscode-notebook-cell:/c%3A/Users/apeichl/source/Machine-Perception-and-Image-Analysis/src/lectures/02_histograms/histograms_assignment.ipynb#W5sZmlsZQ%3D%3D?line=3'>4</a>\u001b[0m P_LOW \u001b[39m=\u001b[39m \u001b[39m0.01\u001b[39m\n\u001b[0;32m      <a href='vscode-notebook-cell:/c%3A/Users/apeichl/source/Machine-Perception-and-Image-Analysis/src/lectures/02_histograms/histograms_assignment.ipynb#W5sZmlsZQ%3D%3D?line=4'>5</a>\u001b[0m P_HIGH \u001b[39m=\u001b[39m \u001b[39m0.99\u001b[39m\n\u001b[1;32m----> <a href='vscode-notebook-cell:/c%3A/Users/apeichl/source/Machine-Perception-and-Image-Analysis/src/lectures/02_histograms/histograms_assignment.ipynb#W5sZmlsZQ%3D%3D?line=5'>6</a>\u001b[0m x_low, x_high \u001b[39m=\u001b[39m range_by_quantiles(grayscaled, P_LOW, P_HIGH)\n\u001b[0;32m      <a href='vscode-notebook-cell:/c%3A/Users/apeichl/source/Machine-Perception-and-Image-Analysis/src/lectures/02_histograms/histograms_assignment.ipynb#W5sZmlsZQ%3D%3D?line=6'>7</a>\u001b[0m transformed \u001b[39m=\u001b[39m transform_by_lut(grayscaled, x_low, x_high)\n",
      "\u001b[1;31mValueError\u001b[0m: too many values to unpack (expected 2)"
     ]
    }
   ],
   "source": [
    "# dont change this code, you can change P_LOW and P_HIGH of course\n",
    "img = cv.imread(os.path.join(\"data\", \"P.jpg\"))\n",
    "grayscaled = cv.cvtColor(img, cv.COLOR_BGR2GRAY).astype(float) / 255.\n",
    "P_LOW = 0.01\n",
    "P_HIGH = 0.99\n",
    "x_low, x_high = range_by_quantiles(grayscaled, P_LOW, P_HIGH)\n",
    "transformed = transform_by_lut(grayscaled, x_low, x_high)"
   ]
  },
  {
   "cell_type": "code",
   "execution_count": 14,
   "metadata": {},
   "outputs": [],
   "source": [
    "# PLOT HISTOGRAMS HERE (CHECK IF IT IS CORRECT)"
   ]
  },
  {
   "cell_type": "markdown",
   "metadata": {},
   "source": [
    "## Subtask 2 - Constrained equalization"
   ]
  },
  {
   "cell_type": "markdown",
   "metadata": {},
   "source": [
    "Apply your algorithm to image **data/L.jpg**, try to fix problem with so called *artifacts*."
   ]
  },
  {
   "cell_type": "code",
   "execution_count": 15,
   "metadata": {},
   "outputs": [],
   "source": [
    "def advanced_lut(img, p_high, p_low, **kwargs):\n",
    "    \"\"\" Function transformes image based p_low and p_high\n",
    "    \n",
    "    This function also try to do it without artifacts in transformed\n",
    "    image.\n",
    "    \n",
    "    Args:\n",
    "        img (np.array): 2D matrix (numbers from 0.0 - 1.0) representing\n",
    "            black&white image\n",
    "        p_low (float): low quantile to map it to 0.0\n",
    "        p_high (float): high quantile to map it to 1.0\n",
    "        **kwargs:\n",
    "            your keyword arguments\n",
    "    \n",
    "    Returns:\n",
    "        transformed image\n",
    "    \"\"\"\n",
    "    # YOUR IMPLEMENTATION HERE (also change return)\n",
    "    return \"do some magic\""
   ]
  },
  {
   "cell_type": "code",
   "execution_count": 16,
   "metadata": {},
   "outputs": [],
   "source": [
    "# dont change this code\n",
    "img = cv.imread(os.path.join(\"data\", \"L.jpg\"))\n",
    "grayscaled = cv.cvtColor(img, cv.COLOR_BGR2GRAY).astype(float) / 255.\n",
    "P_LOW = 0.01\n",
    "P_HIGH = 0.99\n",
    "transformed = advanced_lut(grayscaled, P_LOW, P_HIGH)"
   ]
  },
  {
   "cell_type": "code",
   "execution_count": 17,
   "metadata": {},
   "outputs": [],
   "source": [
    "# PLOT HISTOGRAMS HERE (CHECK IF IT IS CORRECT)"
   ]
  },
  {
   "cell_type": "code",
   "execution_count": null,
   "metadata": {},
   "outputs": [],
   "source": []
  }
 ],
 "metadata": {
  "kernelspec": {
   "display_name": "Python 3",
   "language": "python",
   "name": "python3"
  },
  "language_info": {
   "codemirror_mode": {
    "name": "ipython",
    "version": 3
   },
   "file_extension": ".py",
   "mimetype": "text/x-python",
   "name": "python",
   "nbconvert_exporter": "python",
   "pygments_lexer": "ipython3",
   "version": "3.10.9"
  }
 },
 "nbformat": 4,
 "nbformat_minor": 2
}
