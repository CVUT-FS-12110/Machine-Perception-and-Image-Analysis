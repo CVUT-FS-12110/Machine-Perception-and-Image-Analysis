{
 "cells": [
  {
   "cell_type": "code",
   "execution_count": null,
   "id": "fd5f3063-6675-4fb5-87cf-b98397bb3309",
   "metadata": {},
   "outputs": [],
   "source": [
    "%pip install ultralytics\n",
    "import ultralytics\n",
    "ultralytics.checks()"
   ]
  },
  {
   "cell_type": "code",
   "execution_count": null,
   "id": "d4521bb0-52b4-4b45-8c6f-b1e90538c6d1",
   "metadata": {},
   "outputs": [],
   "source": [
    "# Run inference on an image with YOLO11n\n",
    "!yolo predict model=yolo11n.pt source='https://ultralytics.com/images/zidane.jpg'"
   ]
  },
  {
   "cell_type": "code",
   "execution_count": null,
   "id": "ff5cd75a-a82d-4bf3-a105-f76a41d7fd2a",
   "metadata": {},
   "outputs": [],
   "source": [
    "import matplotlib.pyplot as plt\n",
    "import matplotlib.image as mpimg\n",
    "predict = mpimg.imread('/content/runs/detect/predict/zidane.jpg')\n",
    "plt.imshow(predict)"
   ]
  }
 ],
 "metadata": {
  "kernelspec": {
   "display_name": "Python 3 (ipykernel)",
   "language": "python",
   "name": "python3"
  },
  "language_info": {
   "codemirror_mode": {
    "name": "ipython",
    "version": 3
   },
   "file_extension": ".py",
   "mimetype": "text/x-python",
   "name": "python",
   "nbconvert_exporter": "python",
   "pygments_lexer": "ipython3",
   "version": "3.12.3"
  }
 },
 "nbformat": 4,
 "nbformat_minor": 5
}
