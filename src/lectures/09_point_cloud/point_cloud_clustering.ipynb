{
 "cells": [
  {
   "cell_type": "markdown",
   "id": "c6b55293",
   "metadata": {},
   "source": [
    "# Point Cloud Clustering with K-Means"
   ]
  },
  {
   "cell_type": "code",
   "execution_count": 9,
   "id": "508c5c11",
   "metadata": {},
   "outputs": [],
   "source": [
    "import numpy as np\n",
    "import open3d as o3d\n",
    "import laspy\n",
    "from sklearn.cluster import KMeans\n",
    "import matplotlib.pyplot as plt\n"
   ]
  },
  {
   "cell_type": "code",
   "execution_count": 10,
   "id": "74bbf0bf",
   "metadata": {},
   "outputs": [],
   "source": [
    "# Load .las file\n",
    "las_file = laspy.read(\"./data/ukazka.las\")  # Replace with your file path\n",
    "points = np.vstack((las_file.x, las_file.y, las_file.z)).transpose()\n",
    "\n",
    "# Create Open3D point cloud\n",
    "pcd = o3d.geometry.PointCloud()\n",
    "pcd.points = o3d.utility.Vector3dVector(points)\n"
   ]
  },
  {
   "cell_type": "code",
   "execution_count": 11,
   "id": "391bb958",
   "metadata": {},
   "outputs": [],
   "source": [
    "# Normalize color information if available\n",
    "if hasattr(las_file, 'red') and hasattr(las_file, 'green') and hasattr(las_file, 'blue'):\n",
    "    colors = np.vstack((las_file.red, las_file.green, las_file.blue)).transpose() / 65535.0\n",
    "    pcd.colors = o3d.utility.Vector3dVector(colors)\n"
   ]
  },
  {
   "cell_type": "code",
   "execution_count": 12,
   "id": "24da1b7d",
   "metadata": {},
   "outputs": [
    {
     "name": "stderr",
     "output_type": "stream",
     "text": [
      "d:\\Owncloud\\Local_Home\\vyuka\\PV_231211\\venv\\lib\\site-packages\\sklearn\\cluster\\_kmeans.py:1416: FutureWarning: The default value of `n_init` will change from 10 to 'auto' in 1.4. Set the value of `n_init` explicitly to suppress the warning\n",
      "  super()._check_params_vs_input(X, default_n_init=10)\n"
     ]
    }
   ],
   "source": [
    "# Assuming colors are normalized and available\n",
    "if pcd.has_colors():\n",
    "    # Flatten the array of colors and reshape for k-means\n",
    "    colors = np.asarray(pcd.colors)\n",
    "    colors_reshaped = colors.reshape(-1, 3)\n",
    "    \n",
    "    # Apply k-means to cluster colors into 5 clusters\n",
    "    kmeans = KMeans(n_clusters=3)\n",
    "    kmeans.fit(colors_reshaped)\n",
    "    labels = kmeans.labels_\n",
    "    \n",
    "    # Define specific colors for each cluster\n",
    "    cluster_colors = [[1, 0, 0], [0, 1, 0], [0, 0, 1], [1, 1, 0], [0, 1, 1]]  # Red, Green, Blue, Yellow, Cyan\n",
    "    \n",
    "    # Assign the cluster colors to each point\n",
    "    point_colors = np.array([cluster_colors[label] for label in labels])\n",
    "    pcd.colors = o3d.utility.Vector3dVector(point_colors)\n",
    "    \n",
    "    # Visualize the point cloud with assigned cluster colors\n",
    "    o3d.visualization.draw_geometries([pcd])\n",
    "else:\n",
    "    print(\"Color information not available in the point cloud.\")\n"
   ]
  }
 ],
 "metadata": {
  "kernelspec": {
   "display_name": "venv",
   "language": "python",
   "name": "python3"
  },
  "language_info": {
   "codemirror_mode": {
    "name": "ipython",
    "version": 3
   },
   "file_extension": ".py",
   "mimetype": "text/x-python",
   "name": "python",
   "nbconvert_exporter": "python",
   "pygments_lexer": "ipython3",
   "version": "3.9.13"
  }
 },
 "nbformat": 4,
 "nbformat_minor": 5
}
