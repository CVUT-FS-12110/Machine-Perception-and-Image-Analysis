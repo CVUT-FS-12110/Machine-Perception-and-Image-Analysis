{
 "cells": [
  {
   "cell_type": "markdown",
   "metadata": {},
   "source": [
    " ## Load and Visualize Point Cloud"
   ]
  },
  {
   "cell_type": "code",
   "execution_count": 16,
   "metadata": {},
   "outputs": [],
   "source": [
    "import laspy\n",
    "import open3d as o3d\n",
    "import numpy as np\n",
    "\n",
    "# Load .las file\n",
    "las_file = laspy.read(\"./data/ukazka.las\")  # Replace with your file path\n",
    "# Extracting the x, y, and z coordinates from the .las file\n",
    "points = np.vstack((las_file.x, las_file.y, las_file.z)).transpose()\n",
    "\n",
    "# Create Open3D point cloud from the extracted points\n",
    "pcd = o3d.geometry.PointCloud()\n",
    "pcd.points = o3d.utility.Vector3dVector(points)\n",
    "\n",
    "# Check if color information is available in the .las file\n",
    "if hasattr(las_file, 'red') and hasattr(las_file, 'green') and hasattr(las_file, 'blue'):\n",
    "    # Extracting and normalizing color information\n",
    "    colors = np.vstack((las_file.red, las_file.green, las_file.blue)).transpose() / 65535.0\n",
    "    pcd.colors = o3d.utility.Vector3dVector(colors)\n",
    "\n",
    "# Visualize the entire point cloud\n",
    "o3d.visualization.draw_geometries([pcd]) \n"
   ]
  },
  {
   "cell_type": "markdown",
   "metadata": {},
   "source": [
    " ## Create and Visualize a Slice at a Defined Plane"
   ]
  },
  {
   "cell_type": "code",
   "execution_count": 17,
   "metadata": {},
   "outputs": [],
   "source": [
    "# Define the slicing plane (e.g., z = 0.5)\n",
    "bottom_plane_z = 410\n",
    "top_plane_z = 411\n",
    "\n",
    "# Convert the point cloud to a numpy array\n",
    "pcd_np = np.asarray(pcd.points)\n",
    "\n",
    "# Filtering the points based on the z-coordinate to be between the two planes\n",
    "filtered_indices = np.where((pcd_np[:, 2] > bottom_plane_z) & (pcd_np[:, 2] < top_plane_z))[0]\n",
    "\n",
    "# Creating a new point cloud from the filtered indices\n",
    "sliced_pcd = pcd.select_by_index(filtered_indices)\n",
    "\n",
    "# Visualize the sliced section of the point cloud\n",
    "o3d.visualization.draw_geometries([sliced_pcd])\n"
   ]
  },
  {
   "cell_type": "markdown",
   "metadata": {},
   "source": [
    " ## Separate and Visualize Green Points"
   ]
  },
  {
   "cell_type": "code",
   "execution_count": 18,
   "metadata": {},
   "outputs": [
    {
     "ename": "RuntimeError",
     "evalue": "",
     "output_type": "error",
     "traceback": [
      "\u001b[1;31m---------------------------------------------------------------------------\u001b[0m",
      "\u001b[1;31mRuntimeError\u001b[0m                              Traceback (most recent call last)",
      "Cell \u001b[1;32mIn[18], line 17\u001b[0m\n\u001b[0;32m     15\u001b[0m green_pcd \u001b[38;5;241m=\u001b[39m o3d\u001b[38;5;241m.\u001b[39mgeometry\u001b[38;5;241m.\u001b[39mPointCloud()\n\u001b[0;32m     16\u001b[0m green_pcd\u001b[38;5;241m.\u001b[39mpoints \u001b[38;5;241m=\u001b[39m o3d\u001b[38;5;241m.\u001b[39mutility\u001b[38;5;241m.\u001b[39mVector3dVector(pcd_np[green_indices])\n\u001b[1;32m---> 17\u001b[0m green_pcd\u001b[38;5;241m.\u001b[39mcolors \u001b[38;5;241m=\u001b[39m \u001b[43mo3d\u001b[49m\u001b[38;5;241;43m.\u001b[39;49m\u001b[43mutility\u001b[49m\u001b[38;5;241;43m.\u001b[39;49m\u001b[43mVector3dVector\u001b[49m\u001b[43m(\u001b[49m\u001b[43mnp\u001b[49m\u001b[38;5;241;43m.\u001b[39;49m\u001b[43marray\u001b[49m\u001b[43m(\u001b[49m\u001b[43m[\u001b[49m\u001b[43m[\u001b[49m\u001b[38;5;241;43m0\u001b[39;49m\u001b[43m,\u001b[49m\u001b[43m \u001b[49m\u001b[38;5;241;43m1\u001b[39;49m\u001b[43m,\u001b[49m\u001b[43m \u001b[49m\u001b[38;5;241;43m0\u001b[39;49m\u001b[43m]\u001b[49m\u001b[43m \u001b[49m\u001b[38;5;28;43;01mfor\u001b[39;49;00m\u001b[43m \u001b[49m\u001b[43m_\u001b[49m\u001b[43m \u001b[49m\u001b[38;5;129;43;01min\u001b[39;49;00m\u001b[43m \u001b[49m\u001b[43mgreen_indices\u001b[49m\u001b[43m]\u001b[49m\u001b[43m)\u001b[49m\u001b[43m)\u001b[49m  \u001b[38;5;66;03m# Assigning green color\u001b[39;00m\n\u001b[0;32m     19\u001b[0m \u001b[38;5;66;03m# Identifying indices of non-green points\u001b[39;00m\n\u001b[0;32m     20\u001b[0m non_green_indices \u001b[38;5;241m=\u001b[39m [i \u001b[38;5;28;01mfor\u001b[39;00m i, color \u001b[38;5;129;01min\u001b[39;00m \u001b[38;5;28menumerate\u001b[39m(colors_np) \u001b[38;5;28;01mif\u001b[39;00m \u001b[38;5;129;01mnot\u001b[39;00m is_green(color)]\n",
      "\u001b[1;31mRuntimeError\u001b[0m: "
     ]
    }
   ],
   "source": [
    "def is_green(point):\n",
    "    # Check if the green value is greater than both red and blue values\n",
    "    r, g, b = point[0], point[1], point[2]\n",
    "    return g > r and g > b\n",
    "\n",
    "# Check again for color information availability\n",
    "if hasattr(las_file, 'red') and hasattr(las_file, 'green') and hasattr(las_file, 'blue'):\n",
    "    # Converting color information to numpy array\n",
    "    colors_np = np.asarray(pcd.colors)\n",
    "\n",
    "    # Identifying indices of green points\n",
    "    green_indices = [i for i, color in enumerate(colors_np) if is_green(color)]\n",
    "\n",
    "    # Creating a new point cloud for green points\n",
    "    green_pcd = o3d.geometry.PointCloud()\n",
    "    green_pcd.points = o3d.utility.Vector3dVector(pcd_np[green_indices])\n",
    "    green_pcd.colors = o3d.utility.Vector3dVector(np.array([[0, 1, 0] for _ in green_indices]))  # Assigning green color\n",
    "\n",
    "    # Identifying indices of non-green points\n",
    "    non_green_indices = [i for i, color in enumerate(colors_np) if not is_green(color)]\n",
    "\n",
    "    # Creating a new point cloud for non-green points\n",
    "    non_green_pcd = o3d.geometry.PointCloud()\n",
    "    non_green_pcd.points = o3d.utility.Vector3dVector(pcd_np[non_green_indices])\n",
    "    non_green_pcd.colors = o3d.utility.Vector3dVector(np.array([[1, 0, 0] for _ in non_green_indices]))  # Assigning another color (e.g., red)\n",
    "\n",
    "    # Visualize the point cloud with green and non-green points\n",
    "    o3d.visualization.draw_geometries([green_pcd, non_green_pcd])\n",
    "else:\n",
    "    print(\"Color information not available in the .las file.\")\n"
   ]
  },
  {
   "cell_type": "markdown",
   "metadata": {},
   "source": [
    " ## Separate and Visualize based on image"
   ]
  },
  {
   "cell_type": "code",
   "execution_count": null,
   "metadata": {},
   "outputs": [
    {
     "name": "stdout",
     "output_type": "stream",
     "text": [
      "The dominant color in the image is: [88 94 94]\n"
     ]
    },
    {
     "name": "stderr",
     "output_type": "stream",
     "text": [
      "d:\\Owncloud\\Local_Home\\vyuka\\PV_231211\\venv\\lib\\site-packages\\sklearn\\cluster\\_kmeans.py:1416: FutureWarning: The default value of `n_init` will change from 10 to 'auto' in 1.4. Set the value of `n_init` explicitly to suppress the warning\n",
      "  super()._check_params_vs_input(X, default_n_init=10)\n"
     ]
    }
   ],
   "source": [
    "import cv2\n",
    "import numpy as np\n",
    "from sklearn.cluster import KMeans\n",
    "from collections import Counter\n",
    "\n",
    "# Load the image\n",
    "image = cv2.imread('./data/colors.png')\n",
    "# Convert from BGR to RGB\n",
    "image = cv2.cvtColor(image, cv2.COLOR_BGR2RGB)\n",
    "\n",
    "# Reshape the image to be a list of pixels\n",
    "pixels = image.reshape((-1, 3))\n",
    "\n",
    "# We use KMeans to cluster the pixel colors\n",
    "kmeans = KMeans(n_clusters=1)  # We want to find one cluster as you specified\n",
    "kmeans.fit(pixels)\n",
    "\n",
    "# Get the RGB values of the cluster center\n",
    "dominant_color = kmeans.cluster_centers_.astype(int)[0]\n",
    "print(f\"The dominant color in the image is: {dominant_color}\")\n"
   ]
  },
  {
   "cell_type": "code",
   "execution_count": null,
   "metadata": {},
   "outputs": [],
   "source": [
    "# Define a color similarity threshold\n",
    "color_threshold = 10  # This is an example threshold value\n",
    "\n",
    "# Function to determine if a point's color is similar to the dominant color\n",
    "def is_similar_color(point_color, target_color, threshold):\n",
    "    return all(abs(pc - tc) < threshold for pc, tc in zip(point_color, target_color))\n",
    "\n",
    "# Extract color information of the point cloud if available\n",
    "if hasattr(las_file, 'red') and hasattr(las_file, 'green') and hasattr(las_file, 'blue'):\n",
    "    # Normalize the color information for comparison\n",
    "    point_cloud_colors = np.vstack((las_file.red, las_file.green, las_file.blue)).transpose() / 65535.0\n",
    "    point_cloud_colors = (point_cloud_colors * 255).astype(int)  # Scale color values to 0-255\n",
    "\n",
    "    # Find the indices of points with colors similar to the dominant color\n",
    "    similar_color_indices = [i for i, color in enumerate(point_cloud_colors) if is_similar_color(color, dominant_color, color_threshold)]\n",
    "\n",
    "    # Create a new point cloud for points with similar colors\n",
    "    similar_color_pcd = o3d.geometry.PointCloud()\n",
    "    similar_color_pcd.points = o3d.utility.Vector3dVector(np.array(pcd.points)[similar_color_indices])\n",
    "    similar_color_pcd.colors = o3d.utility.Vector3dVector(np.array([[c/255.0 for c in dominant_color] for _ in similar_color_indices]))\n",
    "\n",
    "    # Visualize the point cloud with filtered colors\n",
    "    o3d.visualization.draw_geometries([similar_color_pcd])\n",
    "else:\n",
    "    print(\"Color information not available in the .las file.\")\n"
   ]
  },
  {
   "cell_type": "code",
   "execution_count": null,
   "metadata": {},
   "outputs": [],
   "source": []
  }
 ],
 "metadata": {
  "kernelspec": {
   "display_name": "venv",
   "language": "python",
   "name": "python3"
  },
  "language_info": {
   "codemirror_mode": {
    "name": "ipython",
    "version": 3
   },
   "file_extension": ".py",
   "mimetype": "text/x-python",
   "name": "python",
   "nbconvert_exporter": "python",
   "pygments_lexer": "ipython3",
   "version": "3.9.13"
  }
 },
 "nbformat": 4,
 "nbformat_minor": 2
}
