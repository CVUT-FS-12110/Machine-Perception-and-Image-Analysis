{
 "cells": [
  {
   "cell_type": "markdown",
   "metadata": {},
   "source": [
    "# 4. tutorial - High Dynamic Range (HDR)\n",
    "[High Dynamic Range Imaging](https://en.wikipedia.org/wiki/High-dynamic-range_imaging) refers to the set of imaging technologies and techniques that allow to increase the dynamic range of images or videos."
   ]
  },
  {
   "cell_type": "code",
   "execution_count": null,
   "metadata": {
    "ExecuteTime": {
     "end_time": "2023-10-17T06:37:19.353442191Z",
     "start_time": "2023-10-17T06:37:12.056243992Z"
    }
   },
   "outputs": [],
   "source": [
    "import exif\n",
    "import cv2\n",
    "import matplotlib.pyplot as plt\n",
    "import glob\n",
    "import numpy as np\n",
    "import requests\n",
    "import shutil\n",
    "import os\n",
    "import tempfile"
   ]
  },
  {
   "cell_type": "markdown",
   "metadata": {},
   "source": [
    "### Helper functions for images loading"
   ]
  },
  {
   "cell_type": "code",
   "execution_count": null,
   "metadata": {
    "ExecuteTime": {
     "end_time": "2023-10-17T06:38:42.647125316Z",
     "start_time": "2023-10-17T06:38:42.565602046Z"
    }
   },
   "outputs": [],
   "source": [
    "def download_images(urls, path):\n",
    "    for idx in range(len(urls)):\n",
    "        print(urls[idx], end='')\n",
    "        r = requests.get(urls[idx], stream=True)\n",
    "        if r.status_code == 200:\n",
    "            with open(os.path.join(path, f'image{idx:02d}.jpg'), 'bw') as f:\n",
    "                # r.raw.decode_content = True\n",
    "                shutil.copyfileobj(r.raw, f)    \n",
    "                print('...OK')\n",
    "        else:\n",
    "                print('...FAIL')\n",
    "\n",
    "def read_images(file_pattern, scale_percent = 100):\n",
    "    files = glob.glob(file_pattern) \n",
    "\n",
    "    imgs = []\n",
    "    t = []\n",
    "\n",
    "    for file in files:\n",
    "        tmp_img = cv2.imread(file)\n",
    "        width = int(tmp_img.shape[1] * scale_percent // 100) \n",
    "        height = int(tmp_img.shape[0] * scale_percent // 100)\n",
    "        dim = (width, height) \n",
    "        imgs.append(cv2.resize(tmp_img, dim, interpolation = cv2.INTER_AREA)) \n",
    "        info = exif.Image(file) \n",
    "        t.append(info.exposure_time) \n",
    "    return imgs, t "
   ]
  },
  {
   "cell_type": "markdown",
   "metadata": {},
   "source": [
    "### Load images from github"
   ]
  },
  {
   "cell_type": "code",
   "execution_count": null,
   "metadata": {
    "ExecuteTime": {
     "end_time": "2023-10-17T06:40:43.361653804Z",
     "start_time": "2023-10-17T06:40:32.034270149Z"
    }
   },
   "outputs": [],
   "source": [
    "images_urls = ['https://github.com/CVUT-FS-12110/Machine-Perception-and-Image-Analysis/blob/master/src/lectures/04_HDR/images/lampicka02.jpg?raw=true',\n",
    "               'https://github.com/CVUT-FS-12110/Machine-Perception-and-Image-Analysis/blob/master/src/lectures/04_HDR/images/lampicka03.jpg?raw=true',\n",
    "               'https://github.com/CVUT-FS-12110/Machine-Perception-and-Image-Analysis/blob/master/src/lectures/04_HDR/images/lampicka04.jpg?raw=true',\n",
    "               'https://github.com/CVUT-FS-12110/Machine-Perception-and-Image-Analysis/blob/master/src/lectures/04_HDR/images/lampicka05.jpg?raw=true',\n",
    "               'https://github.com/CVUT-FS-12110/Machine-Perception-and-Image-Analysis/blob/master/src/lectures/04_HDR/images/lampicka06.jpg?raw=true',\n",
    "               'https://github.com/CVUT-FS-12110/Machine-Perception-and-Image-Analysis/blob/master/src/lectures/04_HDR/images/lampicka07.jpg?raw=true',\n",
    "               'https://github.com/CVUT-FS-12110/Machine-Perception-and-Image-Analysis/blob/master/src/lectures/04_HDR/images/lampicka08.jpg?raw=true',\n",
    "               'https://github.com/CVUT-FS-12110/Machine-Perception-and-Image-Analysis/blob/master/src/lectures/04_HDR/images/lampicka09.jpg?raw=true',\n",
    "               'https://github.com/CVUT-FS-12110/Machine-Perception-and-Image-Analysis/blob/master/src/lectures/04_HDR/images/lampicka10.jpg?raw=true',\n",
    "               'https://github.com/CVUT-FS-12110/Machine-Perception-and-Image-Analysis/blob/master/src/lectures/04_HDR/images/lampicka11.jpg?raw=true',\n",
    "               'https://github.com/CVUT-FS-12110/Machine-Perception-and-Image-Analysis/blob/master/src/lectures/04_HDR/images/lampicka12.jpg?raw=true',\n",
    "               'https://github.com/CVUT-FS-12110/Machine-Perception-and-Image-Analysis/blob/master/src/lectures/04_HDR/images/lampicka13.jpg?raw=true',\n",
    "               'https://github.com/CVUT-FS-12110/Machine-Perception-and-Image-Analysis/blob/master/src/lectures/04_HDR/images/lampicka14.jpg?raw=true',\n",
    "               'https://github.com/CVUT-FS-12110/Machine-Perception-and-Image-Analysis/blob/master/src/lectures/04_HDR/images/lampicka15.jpg?raw=true',\n",
    "              ]\n",
    "\n",
    "with tempfile.TemporaryDirectory() as tempdir:\n",
    "    download_images(images_urls, tempdir)\n",
    "    images, t = read_images(os.path.join(tempdir, \"*.jpg\"), scale_percent = 100)\n",
    "\n",
    "sort_index = sorted(range(len(t)), key=lambda k: t[k])\n",
    "t = [t[k] for k in sort_index]\n",
    "images = [images[k] for k in sort_index]\n",
    "    \n",
    "print(f'Exposure times [s]: {t}')"
   ]
  },
  {
   "cell_type": "markdown",
   "metadata": {},
   "source": [
    "### Show all images and exposure times"
   ]
  },
  {
   "cell_type": "code",
   "execution_count": null,
   "metadata": {
    "ExecuteTime": {
     "end_time": "2023-10-15T20:45:52.796501500Z",
     "start_time": "2023-10-15T20:45:49.682437800Z"
    }
   },
   "outputs": [],
   "source": [
    "for idx in range(len(t)):\n",
    "    plt.figure()\n",
    "    plt.imshow(cv2.cvtColor(images[idx], cv2.COLOR_BGR2RGB))\n",
    "    plt.title('{} s'.format(t[idx]))"
   ]
  },
  {
   "cell_type": "markdown",
   "metadata": {},
   "source": [
    "### Create HDR image by Debevec method"
   ]
  },
  {
   "cell_type": "code",
   "execution_count": null,
   "metadata": {
    "ExecuteTime": {
     "end_time": "2023-10-17T06:40:57.528302006Z",
     "start_time": "2023-10-17T06:40:55.543083285Z"
    }
   },
   "outputs": [],
   "source": [
    "times = np.array(t[-1::-1], dtype=np.float32)\n",
    "\n",
    "\n",
    "calibrate = cv2.createCalibrateDebevec()\n",
    "response = calibrate.process(images[-1::-1], times=times)\n",
    "\n",
    "merge_debevec = cv2.createMergeDebevec()\n",
    "hdr_debevec = merge_debevec.process(images[-1::-1], times=times, response=response)\n",
    "\n",
    "plt.plot(response.squeeze()[:,0], 'b')\n",
    "plt.plot(response.squeeze()[:,1], 'g')\n",
    "plt.plot(response.squeeze()[:,2], 'r')\n",
    "plt.title('Camera response function');"
   ]
  },
  {
   "cell_type": "code",
   "execution_count": null,
   "metadata": {
    "ExecuteTime": {
     "end_time": "2023-10-17T06:41:03.911849870Z",
     "start_time": "2023-10-17T06:41:02.991463484Z"
    }
   },
   "outputs": [],
   "source": [
    "plt.imshow(hdr_debevec)\n",
    "plt.title('HDR Image - clipped');\n"
   ]
  },
  {
   "cell_type": "markdown",
   "metadata": {
    "collapsed": false,
    "jupyter": {
     "outputs_hidden": false
    }
   },
   "source": [
    "### HDR to LDR by tonemapping - linear"
   ]
  },
  {
   "cell_type": "code",
   "execution_count": null,
   "metadata": {
    "ExecuteTime": {
     "end_time": "2023-10-17T06:41:09.413499569Z",
     "start_time": "2023-10-17T06:41:08.673773122Z"
    }
   },
   "outputs": [],
   "source": [
    "tonemap = cv2.createTonemap(gamma=8)\n",
    "ldr_debevec = tonemap.process(hdr_debevec.copy())\n",
    "plt.imshow(cv2.cvtColor(ldr_debevec, cv2.COLOR_BGR2RGB))"
   ]
  },
  {
   "cell_type": "markdown",
   "metadata": {
    "collapsed": false,
    "jupyter": {
     "outputs_hidden": false
    }
   },
   "source": [
    "### HDR to LDR by tonemapping - logarithmic - Drago's algorithm"
   ]
  },
  {
   "cell_type": "code",
   "execution_count": null,
   "metadata": {
    "ExecuteTime": {
     "end_time": "2023-10-17T06:41:15.512771087Z",
     "start_time": "2023-10-17T06:41:14.815921960Z"
    },
    "collapsed": false,
    "jupyter": {
     "outputs_hidden": false
    }
   },
   "outputs": [],
   "source": [
    "tonemap = cv2.createTonemapDrago(bias=0.2, saturation=0.5)\n",
    "ldr_debevec = tonemap.process(hdr_debevec.copy())\n",
    "plt.imshow(cv2.cvtColor(ldr_debevec, cv2.COLOR_BGR2RGB))"
   ]
  },
  {
   "cell_type": "markdown",
   "metadata": {
    "collapsed": false,
    "jupyter": {
     "outputs_hidden": false
    }
   },
   "source": [
    "### HDR to LDR by tonemapping - logarithmic - Own implentation of Drago's algorithm\n",
    "Based on Frédéric Drago, Karol Myszkowski, Thomas Annen, and Norishige Chiba. [Adaptive logarithmic mapping for displaying high contrast scenes](https://citeseerx.ist.psu.edu/viewdoc/download?doi=10.1.1.69.8094&amp;rep=rep1&amp;type=pdf). In Computer Graphics Forum, volume 22, pages 419–426. Wiley, 2003."
   ]
  },
  {
   "cell_type": "code",
   "execution_count": null,
   "metadata": {
    "ExecuteTime": {
     "end_time": "2023-10-17T06:41:48.323905487Z",
     "start_time": "2023-10-17T06:41:47.460610334Z"
    },
    "collapsed": false,
    "jupyter": {
     "outputs_hidden": false
    }
   },
   "outputs": [],
   "source": [
    "def hdr_to_ldr_operator(radiance_map, b=0.5, ldmax=100):\n",
    "    max_radiance = np.max(radiance_map)\n",
    "    a = ldmax*0.01/np.log10(max_radiance+1)\n",
    "    c = np.log(b)/np.log(0.5)\n",
    "    ldr = a*np.log(radiance_map+1)/(np.log(2+(radiance_map/max_radiance)**c*8))\n",
    "    return ldr\n",
    "\n",
    "def log_tonemap(hdr, b=0.5, ldmax=100):\n",
    "    ldr = np.zeros(hdr.shape)\n",
    "    for idx in range(hdr.shape[-1]):\n",
    "        ldr[:,:,idx] = hdr_to_ldr_operator(hdr[:,:,idx], b, ldmax)\n",
    "    return np.clip(ldr*255, 0, 255).astype('uint8')\n",
    "\n",
    "ldr_debevec = log_tonemap(hdr_debevec, b=0.5, ldmax=70)\n",
    "plt.imshow(cv2.cvtColor(ldr_debevec, cv2.COLOR_BGR2RGB))"
   ]
  },
  {
   "cell_type": "markdown",
   "metadata": {},
   "source": [
    "### HDR alternative, Exposure Fusion\n",
    "Exposure Fusion blend images with different exposure times (without knowledge of them). Looks better on display, but never produce HDR, it is produce LDR directly."
   ]
  },
  {
   "cell_type": "code",
   "execution_count": null,
   "metadata": {},
   "outputs": [],
   "source": [
    "merge_martens = cv2.createMergeMertens()\n",
    "ldr_martens = merge_martens.process(images)"
   ]
  },
  {
   "cell_type": "code",
   "execution_count": null,
   "metadata": {},
   "outputs": [],
   "source": [
    "plt.imshow(cv2.cvtColor(ldr_martens, cv2.COLOR_BGR2RGB))"
   ]
  }
 ],
 "metadata": {
  "kernelspec": {
   "display_name": "Python 3 (ipykernel)",
   "language": "python",
   "name": "python3"
  },
  "language_info": {
   "codemirror_mode": {
    "name": "ipython",
    "version": 3
   },
   "file_extension": ".py",
   "mimetype": "text/x-python",
   "name": "python",
   "nbconvert_exporter": "python",
   "pygments_lexer": "ipython3",
   "version": "3.10.13"
  }
 },
 "nbformat": 4,
 "nbformat_minor": 4
}
