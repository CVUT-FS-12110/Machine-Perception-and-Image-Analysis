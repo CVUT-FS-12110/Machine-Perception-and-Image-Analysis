{
 "cells": [
  {
   "cell_type": "markdown",
   "metadata": {},
   "source": [
    "# 4. tutorial - High Dynamic Range (HDR)\n",
    "[High Dynamic Range Imaging](https://en.wikipedia.org/wiki/High-dynamic-range_imaging) refers to the set of imaging technologies and techniques that allow to increase the dynamic range of images or videos."
   ]
  },
  {
   "cell_type": "code",
   "execution_count": null,
   "metadata": {
    "ExecuteTime": {
     "end_time": "2023-10-15T20:39:16.788094900Z",
     "start_time": "2023-10-15T20:39:16.767107900Z"
    }
   },
   "outputs": [],
   "source": [
    "import exif\n",
    "import cv2\n",
    "import matplotlib.pyplot as plt\n",
    "import glob\n",
    "import numpy as np\n",
    "import requests\n",
    "import shutil\n",
    "import os\n",
    "import tempfile"
   ]
  },
  {
   "cell_type": "markdown",
   "metadata": {},
   "source": [
    "### Helper functions for images loading"
   ]
  },
  {
   "cell_type": "code",
   "execution_count": null,
   "metadata": {
    "ExecuteTime": {
     "end_time": "2023-10-15T20:39:17.828059600Z",
     "start_time": "2023-10-15T20:39:17.810188700Z"
    }
   },
   "outputs": [],
   "source": [
    "def download_images(urls, path):\n",
    "    for idx in range(len(urls)):\n",
    "        print(urls[idx], end='')\n",
    "        r = requests.get(urls[idx], stream=True)\n",
    "        if r.status_code == 200:\n",
    "            with open(os.path.join(path, f'image{idx:02d}.jpg'), 'bw') as f:\n",
    "                # r.raw.decode_content = True\n",
    "                shutil.copyfileobj(r.raw, f)    \n",
    "                print('...OK')\n",
    "        else:\n",
    "                print('...FAIL')\n",
    "\n",
    "def read_images(file_pattern, scale_percent = 100):\n",
    "    files = glob.glob(file_pattern) # Načtení cest ke všem souborům dle daného vzoru\n",
    "\n",
    "    imgs = []\n",
    "    t = []\n",
    "\n",
    "    # cyklus přes všechny soubory (obrázky v dané cestě)\n",
    "    for file in files:\n",
    "        tmp_img = cv2.imread(file) # Načtení obrázku\n",
    "        width = int(tmp_img.shape[1] * scale_percent // 100) #nový rozměr po zmenšení dle dané hodnoty v %\n",
    "        height = int(tmp_img.shape[0] * scale_percent // 100) #nový rozměr po zmenšení dle dané hodnoty v %\n",
    "        dim = (width, height) #nový rozměr po zmenšení dle dané hodnoty v %\n",
    "        imgs.append(cv2.resize(tmp_img, dim, interpolation = cv2.INTER_AREA)) # zmenšení obrázku a uložení do listu\n",
    "        info = exif.Image(file) # Načtení EXIF z obrázku\n",
    "        t.append(info.exposure_time) # Uložení času expozice do listu\n",
    "    return imgs, t # Návrat velikosti obrázků, pole s obrázky a vektoru časů expozic"
   ]
  },
  {
   "cell_type": "markdown",
   "metadata": {},
   "source": [
    "### Load images from github"
   ]
  },
  {
   "cell_type": "code",
   "execution_count": null,
   "metadata": {
    "ExecuteTime": {
     "end_time": "2023-10-15T20:45:48.745628800Z",
     "start_time": "2023-10-15T20:45:48.203634400Z"
    }
   },
   "outputs": [],
   "source": [
    "images_urls = ['https://github.com/CVUT-FS-12110/Machine-Perception-and-Image-Analysis/blob/master/src/lectures/04_HDR/images/lampicka02.jpg?raw=true',\n",
    "               'https://github.com/CVUT-FS-12110/Machine-Perception-and-Image-Analysis/blob/master/src/lectures/04_HDR/images/lampicka03.jpg?raw=true',\n",
    "               'https://github.com/CVUT-FS-12110/Machine-Perception-and-Image-Analysis/blob/master/src/lectures/04_HDR/images/lampicka04.jpg?raw=true',\n",
    "               'https://github.com/CVUT-FS-12110/Machine-Perception-and-Image-Analysis/blob/master/src/lectures/04_HDR/images/lampicka05.jpg?raw=true',\n",
    "               'https://github.com/CVUT-FS-12110/Machine-Perception-and-Image-Analysis/blob/master/src/lectures/04_HDR/images/lampicka06.jpg?raw=true',\n",
    "               'https://github.com/CVUT-FS-12110/Machine-Perception-and-Image-Analysis/blob/master/src/lectures/04_HDR/images/lampicka07.jpg?raw=true',\n",
    "               'https://github.com/CVUT-FS-12110/Machine-Perception-and-Image-Analysis/blob/master/src/lectures/04_HDR/images/lampicka08.jpg?raw=true',\n",
    "               'https://github.com/CVUT-FS-12110/Machine-Perception-and-Image-Analysis/blob/master/src/lectures/04_HDR/images/lampicka09.jpg?raw=true',\n",
    "               'https://github.com/CVUT-FS-12110/Machine-Perception-and-Image-Analysis/blob/master/src/lectures/04_HDR/images/lampicka10.jpg?raw=true',\n",
    "               'https://github.com/CVUT-FS-12110/Machine-Perception-and-Image-Analysis/blob/master/src/lectures/04_HDR/images/lampicka11.jpg?raw=true',\n",
    "               'https://github.com/CVUT-FS-12110/Machine-Perception-and-Image-Analysis/blob/master/src/lectures/04_HDR/images/lampicka12.jpg?raw=true',\n",
    "               'https://github.com/CVUT-FS-12110/Machine-Perception-and-Image-Analysis/blob/master/src/lectures/04_HDR/images/lampicka13.jpg?raw=true',\n",
    "               'https://github.com/CVUT-FS-12110/Machine-Perception-and-Image-Analysis/blob/master/src/lectures/04_HDR/images/lampicka14.jpg?raw=true',\n",
    "               'https://github.com/CVUT-FS-12110/Machine-Perception-and-Image-Analysis/blob/master/src/lectures/04_HDR/images/lampicka15.jpg?raw=true',\n",
    "              ]\n",
    "\n",
    "with tempfile.TemporaryDirectory() as tempdir:\n",
    "    download_images(images_urls, tempdir)\n",
    "    images, times = read_images(os.path.join(tempdir, \"*.jpg\"), scale_percent = 100)\n",
    "    \n",
    "print(f'Exposure times [s]: {t}')"
   ]
  },
  {
   "cell_type": "markdown",
   "metadata": {},
   "source": [
    "### Show all images and exposure times"
   ]
  },
  {
   "cell_type": "code",
   "execution_count": null,
   "metadata": {
    "ExecuteTime": {
     "end_time": "2023-10-15T20:45:52.796501500Z",
     "start_time": "2023-10-15T20:45:49.682437800Z"
    }
   },
   "outputs": [],
   "source": [
    "for idx in range(len(t)):\n",
    "    plt.figure()\n",
    "    plt.imshow(cv2.cvtColor(images[idx], cv2.COLOR_BGR2RGB))\n",
    "    plt.title('{} s'.format(t[idx]))"
   ]
  },
  {
   "cell_type": "markdown",
   "metadata": {},
   "source": [
    "### Create HDR image by Debevec method"
   ]
  },
  {
   "cell_type": "code",
   "execution_count": null,
   "metadata": {
    "ExecuteTime": {
     "end_time": "2023-10-15T20:51:53.629601900Z",
     "start_time": "2023-10-15T20:51:49.573320300Z"
    }
   },
   "outputs": [],
   "source": [
    "times = np.array(t[-1::-1], dtype=np.float32)\n",
    "\n",
    "\n",
    "calibrate = cv2.createCalibrateDebevec()\n",
    "response = calibrate.process(images[-1::-1], times=times)\n",
    "\n",
    "merge_debevec = cv2.createMergeDebevec()\n",
    "hdr_debevec = merge_debevec.process(images[-1::-1], times=times, response=response)\n",
    "\n",
    "plt.plot(response.squeeze()[:,0], 'b')\n",
    "plt.plot(response.squeeze()[:,1], 'g')\n",
    "plt.plot(response.squeeze()[:,2], 'r')\n",
    "plt.title('Camera response function');"
   ]
  },
  {
   "cell_type": "code",
   "execution_count": null,
   "metadata": {
    "ExecuteTime": {
     "end_time": "2023-10-15T20:51:56.566767300Z",
     "start_time": "2023-10-15T20:51:56.316121200Z"
    }
   },
   "outputs": [],
   "source": [
    "plt.imshow(hdr_debevec)\n",
    "plt.title('HDR Image - clipped');\n"
   ]
  },
  {
   "cell_type": "markdown",
   "metadata": {
    "collapsed": false,
    "jupyter": {
     "outputs_hidden": false
    }
   },
   "source": [
    "### HDR to LDR by tonemapping"
   ]
  },
  {
   "cell_type": "code",
   "execution_count": null,
   "metadata": {
    "ExecuteTime": {
     "end_time": "2023-10-15T20:52:01.359510200Z",
     "start_time": "2023-10-15T20:52:01.172515300Z"
    }
   },
   "outputs": [],
   "source": [
    "tonemap = cv2.createTonemap(gamma=8)\n",
    "ldr_debevec = tonemap.process(hdr_debevec)\n",
    "plt.imshow(cv2.cvtColor(ldr_debevec, cv2.COLOR_BGR2RGB))"
   ]
  },
  {
   "cell_type": "markdown",
   "metadata": {},
   "source": [
    "### HDR alternative, Exposure Fusion\n",
    "Exposure Fusion blend images with different exposure times (without knowledge of them). Looks better on display, but never produce HDR, it is produce LDR directly."
   ]
  },
  {
   "cell_type": "code",
   "execution_count": null,
   "metadata": {},
   "outputs": [],
   "source": [
    "merge_martens = cv2.createMergeMertens()\n",
    "ldr_martens = merge_martens.process(images)"
   ]
  },
  {
   "cell_type": "code",
   "execution_count": null,
   "metadata": {},
   "outputs": [],
   "source": [
    "plt.imshow(cv2.cvtColor(ldr_martens, cv2.COLOR_BGR2RGB))"
   ]
  },
  {
   "cell_type": "code",
   "execution_count": null,
   "metadata": {},
   "outputs": [],
   "source": []
  }
 ],
 "metadata": {
  "kernelspec": {
   "display_name": "Python 3 (ipykernel)",
   "language": "python",
   "name": "python3"
  },
  "language_info": {
   "codemirror_mode": {
    "name": "ipython",
    "version": 3
   },
   "file_extension": ".py",
   "mimetype": "text/x-python",
   "name": "python",
   "nbconvert_exporter": "python",
   "pygments_lexer": "ipython3",
   "version": "3.10.10"
  }
 },
 "nbformat": 4,
 "nbformat_minor": 4
}
