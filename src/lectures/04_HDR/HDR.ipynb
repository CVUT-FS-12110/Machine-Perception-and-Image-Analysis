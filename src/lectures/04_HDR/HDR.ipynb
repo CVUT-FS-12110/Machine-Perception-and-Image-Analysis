{
 "cells": [
  {
   "cell_type": "markdown",
   "metadata": {},
   "source": [
    "# 5. cvičení - High Dynamic Range (HDR)\n",
    "[High Dynamic Range Imaging](https://en.wikipedia.org/wiki/High-dynamic-range_imaging) je technika umožňující rozšířenou reprodukci rozsahu osvětlení a zastínění částí scény snímku mezi nejsvětlejším a nejtmavším bodem snímku, než je možné u normální snímací techniky bez tohoto postupu."
   ]
  },
  {
   "cell_type": "code",
   "execution_count": null,
   "metadata": {},
   "outputs": [],
   "source": [
    "import exif\n",
    "import cv2\n",
    "import matplotlib.pyplot as plt\n",
    "import glob\n",
    "import numpy as np\n",
    "from copy import copy"
   ]
  },
  {
   "cell_type": "code",
   "execution_count": null,
   "metadata": {},
   "outputs": [],
   "source": [
    "def read_images(file_pattern, scale_percent = 5):\n",
    "    files = glob.glob(file_pattern) # Načtení cest ke všem souborům dle daného vzoru\n",
    "\n",
    "    # příprava listů\n",
    "    imgs = []\n",
    "    t = []\n",
    "\n",
    "    # cyklus přes všechny soubory (obrázky v dané cestě)\n",
    "    for file in files:\n",
    "        tmp_img = cv2.imread(file) # Načtení obrázku\n",
    "        width = int(tmp_img.shape[1] * scale_percent / 100) #nový rozměr po zmenšení dle dané hodnoty v %\n",
    "        height = int(tmp_img.shape[0] * scale_percent / 100) #nový rozměr po zmenšení dle dané hodnoty v %\n",
    "        dim = (width, height) #nový rozměr po zmenšení dle dané hodnoty v %\n",
    "        imgs.append(cv2.resize(tmp_img, dim, interpolation = cv2.INTER_AREA)) # zmenšení obrázku a uložení do listu\n",
    "        info = exif.Image(file) # Načtení EXIF z obrázku\n",
    "        t.append(info.exposure_time) # Uložení času expozice do listu\n",
    "    t = np.array(t)\n",
    "    return imgs, t # Návrat velikosti obrázků, pole s obrázky a vektoru časů expozic\n",
    "\n",
    "\n",
    "def bgr2rgb(bgr_image):\n",
    "    b,g,r = cv2.split(bgr_image) # Rozdělení barevných kanálů\n",
    "    return cv2.merge([r,g,b]) # Spojení v jiném pořadí a použití jako návratovou hodnotu funkce"
   ]
  },
  {
   "cell_type": "code",
   "execution_count": null,
   "metadata": {},
   "outputs": [],
   "source": [
    "images, t = read_images(\"./images/*.jpg\", 20) #Načtení cest obrázků a časů expozic"
   ]
  },
  {
   "cell_type": "code",
   "execution_count": null,
   "metadata": {},
   "outputs": [],
   "source": [
    "for idx in range(len(t)):\n",
    "    plt.figure()\n",
    "    plt.imshow(bgr2rgb(images[idx]))\n",
    "    plt.title('{} s'.format(t[idx]))"
   ]
  },
  {
   "cell_type": "markdown",
   "metadata": {},
   "source": [
    "### Spojení expozci do HDR obrázku pomocí OpenCV"
   ]
  },
  {
   "cell_type": "code",
   "execution_count": null,
   "metadata": {},
   "outputs": [],
   "source": [
    "# metoda Martens\n",
    "merge_martens = cv2.createMergeMertens()\n",
    "hdr_martens = merge_martens.process(images)"
   ]
  },
  {
   "cell_type": "code",
   "execution_count": null,
   "metadata": {},
   "outputs": [],
   "source": [
    "hdr = hdr_martens - np.min(hdr_martens)\n",
    "hdr = hdr/np.max(hdr)\n",
    "plt.imshow(bgr2rgb(hdr))\n"
   ]
  },
  {
   "cell_type": "code",
   "execution_count": null,
   "metadata": {},
   "outputs": [],
   "source": [
    "tonemap = cv2.createTonemap(gamma=1)\n",
    "res_martens = tonemap.process(hdr_martens.copy())\n",
    "plt.imshow(bgr2rgb(res_martens))"
   ]
  },
  {
   "cell_type": "markdown",
   "metadata": {},
   "source": [
    "### Vyrovnání histogramu"
   ]
  },
  {
   "cell_type": "code",
   "execution_count": null,
   "metadata": {},
   "outputs": [],
   "source": [
    "res_martens_uint8 = cv2.normalize(res_martens, None, 0, 255, cv2.NORM_MINMAX, cv2.CV_8U)\n",
    "res_martens_ycrcb = cv2.cvtColor(res_martens_uint8, cv2.COLOR_BGR2YCrCb)\n",
    "y,cr,cb = cv2.split(res_martens_ycrcb)\n",
    "equ_y = cv2.equalizeHist(y)\n",
    "equ_ycrcb = cv2.merge([equ_y, cr, cb])\n",
    "equ = cv2.cvtColor(equ_ycrcb, cv2.COLOR_YCrCb2RGB)\n",
    "plt.imshow(equ)"
   ]
  },
  {
   "cell_type": "markdown",
   "metadata": {},
   "source": [
    "## Řídké matice\n",
    "\n",
    "Práci s řídkými maticemi umožňuje například knihvna scipy, konkrétně [scipy.sparse](https://docs.scipy.org/doc/scipy/reference/sparse.html). K řešení je vhodný objekt [Compressed Sparse Row matrix](https://docs.scipy.org/doc/scipy/reference/generated/scipy.sparse.csr_matrix.html#scipy.sparse.csr_matrix)"
   ]
  },
  {
   "cell_type": "code",
   "execution_count": null,
   "metadata": {},
   "outputs": [],
   "source": [
    "from scipy.sparse import csr_matrix, hstack, vstack\n",
    "row = np.array([0, 1, 2, 0])\n",
    "col = np.array([0, 1, 1, 0])\n",
    "data = np.array([1, 2, 4, 8])\n",
    "\n",
    "csr_matrix((data, (row, col)), shape=(3, 3)).toarray()"
   ]
  },
  {
   "cell_type": "markdown",
   "metadata": {},
   "source": [
    "Pokud potřebujeme například složit dvě matice pak k tomu složí metody hstack (horizontální) a vstack (vertikální)"
   ]
  },
  {
   "cell_type": "code",
   "execution_count": null,
   "metadata": {},
   "outputs": [],
   "source": [
    "spr = csr_matrix((data, (row, col)), shape=(3, 3))"
   ]
  },
  {
   "cell_type": "code",
   "execution_count": null,
   "metadata": {},
   "outputs": [],
   "source": [
    "hstack([spr, spr]).toarray()"
   ]
  },
  {
   "cell_type": "code",
   "execution_count": null,
   "metadata": {},
   "outputs": [],
   "source": [
    "vstack([spr, spr]).toarray()"
   ]
  },
  {
   "cell_type": "markdown",
   "metadata": {},
   "source": [
    "Pro řešení předefinovaných soustav rovnic definovaných řídkými maticemi pomocí metody nejmenších čtverců odchylek souží funkce [scipy.sparse.linalg.lsqr](https://docs.scipy.org/doc/scipy/reference/generated/scipy.sparse.linalg.lsqr.html#scipy.sparse.linalg.lsqr)"
   ]
  },
  {
   "cell_type": "code",
   "execution_count": null,
   "metadata": {},
   "outputs": [],
   "source": [
    "from scipy.sparse.linalg import lsqr\n",
    "A = csr_matrix([[1., 0.], [1., 1.], [0., 1.]], dtype=float)\n",
    "b = np.array([1., 0.01, -1.], dtype=float)\n",
    "sol = lsqr(A, b)"
   ]
  },
  {
   "cell_type": "code",
   "execution_count": null,
   "metadata": {},
   "outputs": [],
   "source": [
    "sol"
   ]
  },
  {
   "cell_type": "code",
   "execution_count": null,
   "metadata": {},
   "outputs": [],
   "source": []
  }
 ],
 "metadata": {
  "kernelspec": {
   "display_name": "Python 3",
   "language": "python",
   "name": "python3"
  },
  "language_info": {
   "codemirror_mode": {
    "name": "ipython",
    "version": 3
   },
   "file_extension": ".py",
   "mimetype": "text/x-python",
   "name": "python",
   "nbconvert_exporter": "python",
   "pygments_lexer": "ipython3",
   "version": "3.5.5"
  }
 },
 "nbformat": 4,
 "nbformat_minor": 2
}
