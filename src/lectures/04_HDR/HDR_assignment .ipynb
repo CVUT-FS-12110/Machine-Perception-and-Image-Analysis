{
 "cells": [
  {
   "cell_type": "markdown",
   "metadata": {},
   "source": [
    "# 4. úkol - HDR, odhad odezvové funkce"
   ]
  },
  {
   "cell_type": "code",
   "execution_count": null,
   "metadata": {},
   "outputs": [],
   "source": [
    "import exif\n",
    "import cv2\n",
    "import matplotlib.pyplot as plt\n",
    "import glob\n",
    "import numpy as np\n",
    "\n",
    "# Doplňte jakékoliv další potřebné knihovny"
   ]
  },
  {
   "cell_type": "code",
   "execution_count": null,
   "metadata": {},
   "outputs": [],
   "source": [
    "# Funkce pro načtení obrázků a výpočty\n",
    "\n",
    "def read_images(file_pattern, scale_percent = 5):\n",
    "    files = glob.glob(file_pattern) # Načtení cest ke všem souborům dle daného vzoru\n",
    "\n",
    "    # příprava listů\n",
    "    imgs = []\n",
    "    t = []\n",
    "\n",
    "    # cyklus přes všechny soubory (obrázky v dané cestě)\n",
    "    for file in files:\n",
    "        tmp_img = cv2.imread(file, cv2.IMREAD_UNCHANGED) # Načtení obrázku\n",
    "        width = int(tmp_img.shape[1] * scale_percent / 100) #nový rozměr po zmenšení dle dané hodnoty v %\n",
    "        height = int(tmp_img.shape[0] * scale_percent / 100) #nový rozměr po zmenšení dle dané hodnoty v %\n",
    "        dim = (width, height) #nový rozměr po zmenšení dle dané hodnoty v %\n",
    "        imgs.append(cv2.resize(tmp_img, dim, interpolation = cv2.INTER_AREA).flatten()) # zmenšení obrázku a uložení do listu\n",
    "        info = exif.Image(file) # Načtení EXIF z obrázku\n",
    "        t.append(info.exposure_time) # Uložení času expozice do listu\n",
    "    return dim, np.array(imgs), t # Návrat velikosti obrázků, pole s obrázky a vektoru časů expozic\n",
    "\n",
    "def get_weights(Z, L):\n",
    "    return np.interp(Z, [0, (L-1)/2, L-1], [0, 1, 0]).flatten() \n",
    "\n",
    "def bgr2rgb(bgr_image):\n",
    "    b,g,r = cv2.split(bgr_image) # Rozdělení barevných kanálů\n",
    "    return cv2.merge([r,g,b]) # Spojení v jiném pořadí a použití jako návratovou hodnotu funkce"
   ]
  },
  {
   "cell_type": "code",
   "execution_count": null,
   "metadata": {},
   "outputs": [],
   "source": [
    "dim, Z, t = read_images(\"./images/*.jpg\") # Načtení, zmenšení a čtení doby expozice\n",
    "w = get_weights(Z, L) # výpočet vah\n",
    "lambda_ = 2 # koeficent trestu z aporušení hladkosti"
   ]
  },
  {
   "cell_type": "code",
   "execution_count": null,
   "metadata": {},
   "outputs": [],
   "source": [
    "# Získání indexů do polí pro práci s řídkými maticemi\n",
    "t_ind, Z_ind = np.indices(Z.shape)\n",
    "Z_ind.flatten()"
   ]
  },
  {
   "cell_type": "code",
   "execution_count": null,
   "metadata": {},
   "outputs": [],
   "source": [
    "t_vec = np.log(np.take(t, t_ind.flatten())) * w"
   ]
  },
  {
   "cell_type": "code",
   "execution_count": null,
   "metadata": {},
   "outputs": [],
   "source": [
    "def estimate_exposure(Z, w):\n",
    "\"\"\"\n",
    "Odhadněte ozáření a časy expozic z intenzit jednotlivých pixelů z více expozic.\n",
    "\n",
    "Předpokládejte, že odezvová funkce f je identická funkce.\n",
    "\n",
    "Z Intenzity pixelů, Z(j,i) je intenzita itého pixelu v jtém obrázku\n",
    "w váhy\n",
    "\"\"\"\n",
    "    L = np.max(Z) + 1\n",
    "\n",
    "    ### Zde napište Váš kód ZALOŽENÝ NA METODĚ POPSANÉ ZDE https://cw.fel.cvut.cz/wiki/courses/b4m33dzo/labs/3_hdr V PODKAPITOLE Exposure Estimation \n",
    "\n",
    "    \n",
    "    E = np.zeros(Z.shape[1]);\n",
    "    t = np.zeros(Z.shape[0]);\n",
    "    \n",
    "    return E, finv"
   ]
  },
  {
   "cell_type": "code",
   "execution_count": null,
   "metadata": {},
   "outputs": [],
   "source": [
    "def estimate_response(Z, t, w, lambda_):\n",
    "\"\"\"\n",
    "Odhadněte ozáření a inverzní odezvovou funkci z intenzit jednotlivých pixelů z více expozic a časů expozic.\n",
    "\n",
    "Z Intenzity pixelů, Z(j,i) je intenzita itého pixelu v jtém obrázku\n",
    "t časy expozic, t > 0.\n",
    "w váhy\n",
    "lambda_ keoficent trestu za porušení hladkosti\n",
    "\"\"\"\n",
    "    L = np.max(Z) + 1\n",
    "\n",
    "    ### Zde napište Váš kód ZALOŽENÝ NA METODĚ POPSANÉ ZDE https://cw.fel.cvut.cz/wiki/courses/b4m33dzo/labs/3_hdr V PODKAPITOLE Response Function Estimation \n",
    "\n",
    "    \n",
    "    E = np.zeros(Z.shape[1]);\n",
    "    finv = np.zeros(L);\n",
    "    \n",
    "    return E, finv"
   ]
  },
  {
   "cell_type": "code",
   "execution_count": null,
   "metadata": {},
   "outputs": [],
   "source": [
    "E, finv = estimate_exposure(Z, w)"
   ]
  },
  {
   "cell_type": "code",
   "execution_count": null,
   "metadata": {},
   "outputs": [],
   "source": [
    "# Zde po přepočtu vykreslete odhadnuté časy expozic (t)"
   ]
  },
  {
   "cell_type": "code",
   "execution_count": null,
   "metadata": {},
   "outputs": [],
   "source": [
    "# Zde po chodných úpravách vykreslete výsledný obrázek (E)"
   ]
  },
  {
   "cell_type": "code",
   "execution_count": null,
   "metadata": {},
   "outputs": [],
   "source": [
    "E, finv = estimate_response(Z, t, w, lambda_)"
   ]
  },
  {
   "cell_type": "code",
   "execution_count": null,
   "metadata": {},
   "outputs": [],
   "source": [
    "# Zde po přepočtu vykreslete Inverse response function (finv)"
   ]
  },
  {
   "cell_type": "code",
   "execution_count": null,
   "metadata": {},
   "outputs": [],
   "source": [
    "# Zde po chodných úpravách vykreslete výsledný obrázek (E)"
   ]
  }
 ],
 "metadata": {
  "kernelspec": {
   "display_name": "Python 3",
   "language": "python",
   "name": "python3"
  },
  "language_info": {
   "codemirror_mode": {
    "name": "ipython",
    "version": 3
   },
   "file_extension": ".py",
   "mimetype": "text/x-python",
   "name": "python",
   "nbconvert_exporter": "python",
   "pygments_lexer": "ipython3",
   "version": "3.5.5"
  }
 },
 "nbformat": 4,
 "nbformat_minor": 2
}
