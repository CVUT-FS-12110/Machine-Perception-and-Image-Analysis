{
 "cells": [
  {
   "cell_type": "markdown",
   "id": "db20c523-314d-4d7e-8940-01e3ed6acefc",
   "metadata": {},
   "source": [
    "# Classification with CNN Model"
   ]
  },
  {
   "cell_type": "code",
   "execution_count": 1,
   "id": "b883b666-f7d2-4080-a3bb-2fe09fef7c74",
   "metadata": {},
   "outputs": [
    {
     "name": "stderr",
     "output_type": "stream",
     "text": [
      "C:\\Users\\matou\\AppData\\Local\\Programs\\Python\\Python310\\lib\\site-packages\\albumentations\\__init__.py:24: UserWarning: A new version of Albumentations is available: 2.0.8 (you have 1.4.21). Upgrade using: pip install -U albumentations. To disable automatic update checks, set the environment variable NO_ALBUMENTATIONS_UPDATE to 1.\n",
      "  check_for_updates()\n"
     ]
    }
   ],
   "source": [
    "import os\n",
    "from pathlib import Path\n",
    "\n",
    "import cv2 as cv\n",
    "import numpy as np\n",
    "import matplotlib.pyplot as plt\n",
    "import albumentations as A\n",
    "import torch\n",
    "import torch.nn as nn\n",
    "import torch.nn.functional as F\n",
    "import torch.optim as optim\n",
    "from torch.utils.data import Dataset, DataLoader"
   ]
  },
  {
   "cell_type": "markdown",
   "id": "4e9478de-b2c0-40c0-90d4-9c5154bd4953",
   "metadata": {},
   "source": [
    "## PyTorch Dataset and Dataloaders"
   ]
  },
  {
   "cell_type": "code",
   "execution_count": 2,
   "id": "33280324-afa6-4324-b158-8048e8191dc3",
   "metadata": {},
   "outputs": [
    {
     "name": "stdout",
     "output_type": "stream",
     "text": [
      "Train images: 101, Validation images: 22\n"
     ]
    }
   ],
   "source": [
    "class ClassificationDataset(Dataset):\n",
    "    \n",
    "    def __init__(self, folder, augment=None):\n",
    "        self.folder = Path(folder)\n",
    "        self.files = list(self.folder.glob(\"*.jpg\"))\n",
    "        self.augment = augment\n",
    "\n",
    "    def __len__(self):\n",
    "        return len(self.files)\n",
    "\n",
    "    def __getitem__(self, idx):\n",
    "        img_path = self.files[idx]\n",
    "\n",
    "        # ---- Load and preprocess image ----\n",
    "        image = cv.imread(str(img_path))\n",
    "        image = cv.cvtColor(image, cv.COLOR_BGR2RGB)\n",
    "        image = cv.resize(image, IMAGE_SIZE)\n",
    "\n",
    "        # Albumentations augmentations (if provided)\n",
    "        if self.augment:\n",
    "            image = self.augment(image=image)[\"image\"]\n",
    "\n",
    "        # Convert image to tensor [C, H, W], normalize to [0,1]\n",
    "        image = image.astype(np.float32) / 255.0\n",
    "        image_tensor = torch.from_numpy(image).permute(2, 0, 1)\n",
    "\n",
    "        # ---- Parse class label from filename ----\n",
    "        # Filename format: image_<id>_<class>.jpg\n",
    "        class_label = int(img_path.stem.split(\"_\")[-1])\n",
    "        label_tensor = torch.tensor(class_label, dtype=torch.long)\n",
    "\n",
    "        return image_tensor, label_tensor\n",
    "\n",
    "DATASET_ROOT = Path(\"../data/classification_dataset/\")  \n",
    "\n",
    "train_folder = DATASET_ROOT / \"train\"\n",
    "val_folder = DATASET_ROOT / \"val\"\n",
    "\n",
    "train_dataset = ClassificationDataset(train_folder)\n",
    "val_dataset = ClassificationDataset(val_folder)\n",
    "\n",
    "# Create DataLoaders\n",
    "train_loader = DataLoader(train_dataset, batch_size=16, shuffle=True)\n",
    "val_loader = DataLoader(val_dataset, batch_size=16, shuffle=False)\n",
    "\n",
    "print(f\"Train images: {len(train_dataset)}, Validation images: {len(val_dataset)}\")\n"
   ]
  },
  {
   "cell_type": "markdown",
   "id": "f15fae0e-71f4-40a8-a145-3767467c5922",
   "metadata": {},
   "source": [
    "## Classification Model"
   ]
  },
  {
   "cell_type": "code",
   "execution_count": 3,
   "id": "3276ce90-f184-4521-afc8-4744d0ab4af4",
   "metadata": {},
   "outputs": [
    {
     "name": "stdout",
     "output_type": "stream",
     "text": [
      "Output shape: torch.Size([8, 1])\n"
     ]
    }
   ],
   "source": [
    "class SimpleCNN(nn.Module):\n",
    "    def __init__(self):\n",
    "        super(SimpleCNN, self).__init__()\n",
    "        \n",
    "        # Convolutional layers (fewer channels)\n",
    "        self.conv1 = nn.Conv2d(in_channels=3, out_channels=8, kernel_size=3, padding=1)\n",
    "        self.conv2 = nn.Conv2d(in_channels=8, out_channels=16, kernel_size=3, padding=1)\n",
    "        \n",
    "        # Pooling layer\n",
    "        self.pool = nn.MaxPool2d(kernel_size=2, stride=2)\n",
    "        self.sigmoid = nn.Sigmoid()\n",
    "        \n",
    "        # Fully connected layers\n",
    "        # After two poolings on 256x256 -> feature map = 16 x 64 x 64\n",
    "        self.fc1 = nn.Linear(16 * 64 * 64, 64)\n",
    "        self.fc2 = nn.Linear(64, 1)\n",
    "\n",
    "    def forward(self, x):\n",
    "        # Convolution + ReLU + Pooling\n",
    "        x = self.pool(F.relu(self.conv1(x)))  # -> [B, 8, 128, 128]\n",
    "        x = self.pool(F.relu(self.conv2(x)))  # -> [B, 16, 64, 64]\n",
    "        \n",
    "        # Flatten\n",
    "        x = torch.flatten(x, 1)  # -> [B, 16*64*64]\n",
    "        \n",
    "        # Fully connected layers\n",
    "        x = F.relu(self.fc1(x))\n",
    "        x = self.fc2(x)\n",
    "        return self.sigmoid(x)\n",
    "\n",
    "# Test the smaller model\n",
    "model = SimpleCNN()\n",
    "sample_input = torch.randn(8, 3, 256, 256)  # batch of 8 images\n",
    "output = model(sample_input)\n",
    "print(\"Output shape:\", output.shape)  # Expected: [8, 1]\n"
   ]
  },
  {
   "cell_type": "markdown",
   "id": "917ab9b8-9c56-4e7e-9301-5637d4126682",
   "metadata": {},
   "source": [
    "## Model training"
   ]
  },
  {
   "cell_type": "code",
   "execution_count": 4,
   "id": "b7af4635-77df-4e7b-8ade-76076cecb5c9",
   "metadata": {},
   "outputs": [
    {
     "name": "stdout",
     "output_type": "stream",
     "text": [
      "\n",
      "Epoch 1/10\n",
      "Train Loss: 0.9421, Train Accuracy: 0.4158\n",
      "Val Loss: 0.6677, Val Accuracy: 0.9545\n",
      "\n",
      "Epoch 2/10\n",
      "Train Loss: 0.6464, Train Accuracy: 0.6238\n",
      "Val Loss: 0.6444, Val Accuracy: 0.4545\n",
      "\n",
      "Epoch 3/10\n",
      "Train Loss: 0.5317, Train Accuracy: 0.7129\n",
      "Val Loss: 0.3234, Val Accuracy: 1.0000\n",
      "\n",
      "Epoch 4/10\n",
      "Train Loss: 0.2462, Train Accuracy: 1.0000\n",
      "Val Loss: 0.0787, Val Accuracy: 1.0000\n",
      "\n",
      "Epoch 5/10\n",
      "Train Loss: 0.0433, Train Accuracy: 1.0000\n",
      "Val Loss: 0.0077, Val Accuracy: 1.0000\n",
      "\n",
      "Epoch 6/10\n",
      "Train Loss: 0.0038, Train Accuracy: 1.0000\n",
      "Val Loss: 0.0008, Val Accuracy: 1.0000\n",
      "\n",
      "Epoch 7/10\n",
      "Train Loss: 0.0005, Train Accuracy: 1.0000\n",
      "Val Loss: 0.0001, Val Accuracy: 1.0000\n",
      "\n",
      "Epoch 8/10\n",
      "Train Loss: 0.0001, Train Accuracy: 1.0000\n",
      "Val Loss: 0.0000, Val Accuracy: 1.0000\n",
      "\n",
      "Epoch 9/10\n",
      "Train Loss: 0.0000, Train Accuracy: 1.0000\n",
      "Val Loss: 0.0000, Val Accuracy: 1.0000\n",
      "\n",
      "Epoch 10/10\n",
      "Train Loss: 0.0000, Train Accuracy: 1.0000\n",
      "Val Loss: 0.0000, Val Accuracy: 1.0000\n"
     ]
    }
   ],
   "source": [
    "BATCH_SIZE = 16\n",
    "EPOCHS = 10\n",
    "LEARNING_RATE = 0.001\n",
    "IMAGE_SIZE = (256, 256)\n",
    "DEVICE = torch.device(\"cuda\" if torch.cuda.is_available() else \"cpu\")\n",
    "\n",
    "model = SimpleCNN().to(DEVICE)\n",
    "criterion = nn.BCELoss()  # For sigmoid output\n",
    "optimizer = optim.Adam(model.parameters(), lr=LEARNING_RATE)\n",
    "\n",
    "all_train_loss = []\n",
    "all_val_loss = []\n",
    "\n",
    "for epoch in range(EPOCHS):\n",
    "    print(f\"\\nEpoch {epoch + 1}/{EPOCHS}\")\n",
    "\n",
    "    # ---- TRAIN ----\n",
    "    model.train()\n",
    "    train_loss = 0.0\n",
    "    correct = 0\n",
    "    total = 0\n",
    "\n",
    "    for images, labels in train_loader:\n",
    "        images, labels = images.to(DEVICE), labels.to(DEVICE).float().unsqueeze(1)\n",
    "\n",
    "        optimizer.zero_grad()\n",
    "        outputs = model(images)\n",
    "        loss = criterion(outputs, labels)\n",
    "        loss.backward()\n",
    "        optimizer.step()\n",
    "\n",
    "        train_loss += loss.item() * images.size(0)\n",
    "        preds = (outputs > 0.5).int()\n",
    "        correct += (preds == labels.int()).sum().item()\n",
    "        total += labels.size(0)\n",
    "\n",
    "    train_acc = correct / total\n",
    "    avg_train_loss = train_loss / total\n",
    "    all_train_loss.append(avg_train_loss)\n",
    "    print(f\"Train Loss: {avg_train_loss:.4f}, Train Accuracy: {train_acc:.4f}\")\n",
    "\n",
    "    # ---- VALIDATION ----\n",
    "    model.eval()\n",
    "    val_loss = 0.0\n",
    "    correct = 0\n",
    "    total = 0\n",
    "\n",
    "    with torch.no_grad():\n",
    "        for images, labels in val_loader:\n",
    "            images, labels = images.to(DEVICE), labels.to(DEVICE).float().unsqueeze(1)\n",
    "\n",
    "            outputs = model(images)\n",
    "            loss = criterion(outputs, labels)\n",
    "\n",
    "            val_loss += loss.item() * images.size(0)\n",
    "            preds = (outputs > 0.5).int()\n",
    "            correct += (preds == labels.int()).sum().item()\n",
    "            total += labels.size(0)\n",
    "\n",
    "    val_acc = correct / total\n",
    "    avg_val_loss = val_loss / total\n",
    "    all_val_loss.append(avg_val_loss)\n",
    "    print(f\"Val Loss: {avg_val_loss:.4f}, Val Accuracy: {val_acc:.4f}\")\n"
   ]
  },
  {
   "cell_type": "code",
   "execution_count": 5,
   "id": "91be375a-7600-4988-b016-b8a43d1be72d",
   "metadata": {},
   "outputs": [
    {
     "data": {
      "image/png": "[encoded data removed]",
      "text/plain": [
       "<Figure size 800x500 with 1 Axes>"
      ]
     },
     "metadata": {},
     "output_type": "display_data"
    }
   ],
   "source": [
    "plt.figure(figsize=(8, 5))\n",
    "plt.plot(all_train_loss, marker='o', linestyle='-', linewidth=2, markersize=6, label='Training Loss')\n",
    "plt.plot(all_val_loss, marker='s', linestyle='--', linewidth=2, markersize=6, label='Validation Loss')\n",
    "\n",
    "plt.title('Training vs Validation Loss', fontsize=14, fontweight='bold')\n",
    "plt.xlabel('Epoch', fontsize=12)\n",
    "plt.ylabel('Loss', fontsize=12)\n",
    "plt.xticks(range(len(all_val_loss)), [str(i+1) for i in range(len(all_val_loss))])\n",
    "\n",
    "plt.grid(True, linestyle='--', alpha=0.6)\n",
    "plt.legend(fontsize=10)\n",
    "plt.tight_layout()\n",
    "plt.show()"
   ]
  },
  {
   "cell_type": "code",
   "execution_count": null,
   "id": "d9e6a9fd-00a7-4d72-a13c-7e0c0b47bc5f",
   "metadata": {},
   "outputs": [],
   "source": []
  }
 ],
 "metadata": {
  "kernelspec": {
   "display_name": "Python 3 (ipykernel)",
   "language": "python",
   "name": "python3"
  },
  "language_info": {
   "codemirror_mode": {
    "name": "ipython",
    "version": 3
   },
   "file_extension": ".py",
   "mimetype": "text/x-python",
   "name": "python",
   "nbconvert_exporter": "python",
   "pygments_lexer": "ipython3",
   "version": "3.10.11"
  }
 },
 "nbformat": 4,
 "nbformat_minor": 5
}
