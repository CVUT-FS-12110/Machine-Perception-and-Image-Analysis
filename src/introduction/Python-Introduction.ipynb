{
 "cells": [
  {
   "cell_type": "markdown",
   "source": [
    "# Python - introduction"
   ],
   "metadata": {
    "collapsed": false
   }
  },
  {
   "cell_type": "markdown",
   "source": [
    "## Data types, declaration of variables, work with variables\n",
    "A variable in Python is understood as a named reference to [object](https://en.wikipedia.org/wiki/Object-oriented_programming)."
   ],
   "metadata": {
    "collapsed": false
   }
  },
  {
   "cell_type": "markdown",
   "source": [
    "### Type integer"
   ],
   "metadata": {
    "collapsed": false
   }
  },
  {
   "cell_type": "code",
   "execution_count": 3,
   "outputs": [],
   "source": [
    "a = 2"
   ],
   "metadata": {
    "collapsed": false,
    "ExecuteTime": {
     "end_time": "2023-09-20T18:58:19.638038700Z",
     "start_time": "2023-09-20T18:58:19.595035900Z"
    }
   }
  },
  {
   "cell_type": "markdown",
   "source": [
    "*2* on the right-hand side of the expression creates an unnamed object of type *int* which is then referenced by *a*. The precision (size) of an integer is not limited in Python (as many bits as needed are used).\n",
    "A function  [*print*](https://docs.python.org/3.7/library/functions.html#print) can be used to output the value of an object in its *string* interpretation:"
   ],
   "metadata": {
    "collapsed": false
   }
  },
  {
   "cell_type": "code",
   "execution_count": 4,
   "outputs": [
    {
     "name": "stdout",
     "output_type": "stream",
     "text": [
      "2\n"
     ]
    }
   ],
   "source": [
    "print(a)"
   ],
   "metadata": {
    "collapsed": false,
    "ExecuteTime": {
     "end_time": "2023-09-20T18:58:51.046273600Z",
     "start_time": "2023-09-20T18:58:50.947275100Z"
    }
   }
  },
  {
   "cell_type": "markdown",
   "source": [
    "The *type* function is used to display the type of the referenced object (variable type).:"
   ],
   "metadata": {
    "collapsed": false
   }
  },
  {
   "cell_type": "code",
   "execution_count": 6,
   "outputs": [
    {
     "data": {
      "text/plain": "int"
     },
     "execution_count": 6,
     "metadata": {},
     "output_type": "execute_result"
    }
   ],
   "source": [
    "type(a)"
   ],
   "metadata": {
    "collapsed": false,
    "ExecuteTime": {
     "end_time": "2023-09-20T18:59:09.642611600Z",
     "start_time": "2023-09-20T18:59:09.582094800Z"
    }
   }
  },
  {
   "cell_type": "markdown",
   "source": [
    "All variables in Python are objects, i.e. data structures combining data (attributes) and functions (methods). The dir function is used to list all attributes and methods associated with an object of a given class:"
   ],
   "metadata": {
    "collapsed": false
   }
  },
  {
   "cell_type": "code",
   "execution_count": 7,
   "outputs": [
    {
     "name": "stdout",
     "output_type": "stream",
     "text": [
      "['__abs__', '__add__', '__and__', '__bool__', '__ceil__', '__class__', '__delattr__', '__dir__', '__divmod__', '__doc__', '__eq__', '__float__', '__floor__', '__floordiv__', '__format__', '__ge__', '__getattribute__', '__getnewargs__', '__gt__', '__hash__', '__index__', '__init__', '__init_subclass__', '__int__', '__invert__', '__le__', '__lshift__', '__lt__', '__mod__', '__mul__', '__ne__', '__neg__', '__new__', '__or__', '__pos__', '__pow__', '__radd__', '__rand__', '__rdivmod__', '__reduce__', '__reduce_ex__', '__repr__', '__rfloordiv__', '__rlshift__', '__rmod__', '__rmul__', '__ror__', '__round__', '__rpow__', '__rrshift__', '__rshift__', '__rsub__', '__rtruediv__', '__rxor__', '__setattr__', '__sizeof__', '__str__', '__sub__', '__subclasshook__', '__truediv__', '__trunc__', '__xor__', 'as_integer_ratio', 'bit_length', 'conjugate', 'denominator', 'from_bytes', 'imag', 'numerator', 'real', 'to_bytes']\n"
     ]
    }
   ],
   "source": [
    "print(dir(a))"
   ],
   "metadata": {
    "collapsed": false,
    "ExecuteTime": {
     "end_time": "2023-09-20T18:59:33.990879800Z",
     "start_time": "2023-09-20T18:59:33.933899Z"
    }
   }
  },
  {
   "cell_type": "markdown",
   "source": [
    "All operations that can be performed on an *int* class object are declared in the *int* class definition. E.g. addition using the + operator is done using the *int.\\__add__* method. So you can add *int*  with another *int* like this:"
   ],
   "metadata": {
    "collapsed": false
   }
  },
  {
   "cell_type": "code",
   "execution_count": 10,
   "outputs": [
    {
     "name": "stdout",
     "output_type": "stream",
     "text": [
      "4\n",
      "4\n"
     ]
    }
   ],
   "source": [
    "print(a+2)\n",
    "# (inline comment) is the same (literally the same, it is what the interpreter does after writing the command one line above) as:\n",
    "print(a.__add__(2))"
   ],
   "metadata": {
    "collapsed": false,
    "ExecuteTime": {
     "end_time": "2023-09-20T19:01:02.498879900Z",
     "start_time": "2023-09-20T19:01:02.393358100Z"
    }
   }
  },
  {
   "cell_type": "markdown",
   "source": [
    "### Type float\n",
    "A number in floating point format is stored as a *double* in *C* in an object of class *float*. The precision (bit length) is given by the system. Examples of creating a variable of type *float*:"
   ],
   "metadata": {
    "collapsed": false
   }
  },
  {
   "cell_type": "code",
   "execution_count": 11,
   "outputs": [
    {
     "name": "stdout",
     "output_type": "stream",
     "text": [
      "<class 'float'> 2.5\n"
     ]
    }
   ],
   "source": [
    "b = 2.5\n",
    "print(type(b), b)"
   ],
   "metadata": {
    "collapsed": false,
    "ExecuteTime": {
     "end_time": "2023-09-20T19:01:58.171602800Z",
     "start_time": "2023-09-20T19:01:58.040598400Z"
    }
   }
  },
  {
   "cell_type": "code",
   "execution_count": 12,
   "outputs": [
    {
     "name": "stdout",
     "output_type": "stream",
     "text": [
      "<class 'float'> 2.0\n"
     ]
    }
   ],
   "source": [
    "b = 2.0\n",
    "print(type(b), b)"
   ],
   "metadata": {
    "collapsed": false,
    "ExecuteTime": {
     "end_time": "2023-09-20T19:02:06.007725700Z",
     "start_time": "2023-09-20T19:02:05.906677500Z"
    }
   }
  },
  {
   "cell_type": "code",
   "execution_count": 13,
   "outputs": [
    {
     "name": "stdout",
     "output_type": "stream",
     "text": [
      "<class 'float'> 2.0\n"
     ]
    }
   ],
   "source": [
    "b = 2.\n",
    "print(type(b), b)"
   ],
   "metadata": {
    "collapsed": false,
    "ExecuteTime": {
     "end_time": "2023-09-20T19:02:11.556029400Z",
     "start_time": "2023-09-20T19:02:11.481499300Z"
    }
   }
  },
  {
   "cell_type": "markdown",
   "source": [
    "### Type Boolean\n",
    "It takes the values *True* and *False* (just like that, Python is case-sensitive)."
   ],
   "metadata": {
    "collapsed": false
   }
  },
  {
   "cell_type": "code",
   "execution_count": 15,
   "outputs": [
    {
     "name": "stdout",
     "output_type": "stream",
     "text": [
      "<class 'bool'> True\n"
     ]
    }
   ],
   "source": [
    "c = True\n",
    "print(type(c), c)"
   ],
   "metadata": {
    "collapsed": false,
    "ExecuteTime": {
     "end_time": "2023-09-20T19:02:41.706515500Z",
     "start_time": "2023-09-20T19:02:41.651988Z"
    }
   }
  },
  {
   "cell_type": "markdown",
   "source": [
    "### Strings (and chars)"
   ],
   "metadata": {
    "collapsed": false
   }
  },
  {
   "cell_type": "code",
   "execution_count": 16,
   "outputs": [
    {
     "name": "stdout",
     "output_type": "stream",
     "text": [
      "<class 'str'> ab\n"
     ]
    }
   ],
   "source": [
    "a = \"a\" + 'b'\n",
    "print(type(a), a)"
   ],
   "metadata": {
    "collapsed": false,
    "ExecuteTime": {
     "end_time": "2023-09-20T19:03:21.669325700Z",
     "start_time": "2023-09-20T19:03:21.629325200Z"
    }
   }
  },
  {
   "cell_type": "markdown",
   "source": [
    "#multiline text can be defined with triple double quotes:"
   ],
   "metadata": {
    "collapsed": false
   }
  },
  {
   "cell_type": "code",
   "execution_count": 19,
   "outputs": [
    {
     "name": "stdout",
     "output_type": "stream",
     "text": [
      "name: John Smith\n",
      "\n",
      "Hello Python class\n"
     ]
    }
   ],
   "source": [
    "text = \"\"\"name: John Smith\n",
    "\n",
    "Hello Python class\"\"\"\n",
    "print(text)"
   ],
   "metadata": {
    "collapsed": false,
    "ExecuteTime": {
     "end_time": "2023-09-20T19:04:02.201374100Z",
     "start_time": "2023-09-20T19:04:02.157855300Z"
    }
   }
  },
  {
   "cell_type": "code",
   "execution_count": 20,
   "outputs": [
    {
     "name": "stdout",
     "output_type": "stream",
     "text": [
      "['__add__', '__class__', '__contains__', '__delattr__', '__dir__', '__doc__', '__eq__', '__format__', '__ge__', '__getattribute__', '__getitem__', '__getnewargs__', '__gt__', '__hash__', '__init__', '__init_subclass__', '__iter__', '__le__', '__len__', '__lt__', '__mod__', '__mul__', '__ne__', '__new__', '__reduce__', '__reduce_ex__', '__repr__', '__rmod__', '__rmul__', '__setattr__', '__sizeof__', '__str__', '__subclasshook__', 'capitalize', 'casefold', 'center', 'count', 'encode', 'endswith', 'expandtabs', 'find', 'format', 'format_map', 'index', 'isalnum', 'isalpha', 'isascii', 'isdecimal', 'isdigit', 'isidentifier', 'islower', 'isnumeric', 'isprintable', 'isspace', 'istitle', 'isupper', 'join', 'ljust', 'lower', 'lstrip', 'maketrans', 'partition', 'removeprefix', 'removesuffix', 'replace', 'rfind', 'rindex', 'rjust', 'rpartition', 'rsplit', 'rstrip', 'split', 'splitlines', 'startswith', 'strip', 'swapcase', 'title', 'translate', 'upper', 'zfill']\n"
     ]
    }
   ],
   "source": [
    "print(dir(text))"
   ],
   "metadata": {
    "collapsed": false,
    "ExecuteTime": {
     "end_time": "2023-09-20T19:05:34.917777Z",
     "start_time": "2023-09-20T19:05:34.893780200Z"
    }
   }
  },
  {
   "cell_type": "code",
   "execution_count": 22,
   "outputs": [
    {
     "name": "stdout",
     "output_type": "stream",
     "text": [
      "c=1 and the type is <class 'int'>\n",
      "c=1 and the type is <class 'int'>\n"
     ]
    }
   ],
   "source": [
    "c = 1\n",
    "print(\"c={} and the type is {}\".format(c, type(c)))\n",
    "\n",
    "# or\n",
    "\n",
    "print(f\"c={c} and the type is {type(c)}\")"
   ],
   "metadata": {
    "collapsed": false,
    "ExecuteTime": {
     "end_time": "2023-09-20T19:06:32.570272600Z",
     "start_time": "2023-09-20T19:06:32.544273Z"
    }
   }
  },
  {
   "cell_type": "code",
   "execution_count": 23,
   "outputs": [
    {
     "name": "stdout",
     "output_type": "stream",
     "text": [
      "Help on method_descriptor:\n",
      "\n",
      "find(...)\n",
      "    S.find(sub[, start[, end]]) -> int\n",
      "    \n",
      "    Return the lowest index in S where substring sub is found,\n",
      "    such that sub is contained within S[start:end].  Optional\n",
      "    arguments start and end are interpreted as in slice notation.\n",
      "    \n",
      "    Return -1 on failure.\n",
      "\n"
     ]
    }
   ],
   "source": [
    "# All basic string functions are defined as method of str class. To get docstring of function, you can use function help:\n",
    "\n",
    "help(str.find)"
   ],
   "metadata": {
    "collapsed": false,
    "ExecuteTime": {
     "end_time": "2023-09-20T19:07:59.534175800Z",
     "start_time": "2023-09-20T19:07:59.508178800Z"
    }
   }
  },
  {
   "cell_type": "markdown",
   "source": [
    "### Basic types conversion"
   ],
   "metadata": {
    "collapsed": false
   }
  },
  {
   "cell_type": "code",
   "execution_count": 24,
   "outputs": [],
   "source": [
    "one = 1\n",
    "two = \"2\""
   ],
   "metadata": {
    "collapsed": false,
    "ExecuteTime": {
     "end_time": "2023-09-20T19:10:41.792509200Z",
     "start_time": "2023-09-20T19:10:41.760505Z"
    }
   }
  },
  {
   "cell_type": "code",
   "execution_count": 35,
   "outputs": [
    {
     "ename": "TypeError",
     "evalue": "unsupported operand type(s) for +: 'int' and 'str'",
     "output_type": "error",
     "traceback": [
      "\u001B[1;31m---------------------------------------------------------------------------\u001B[0m",
      "\u001B[1;31mTypeError\u001B[0m                                 Traceback (most recent call last)",
      "Cell \u001B[1;32mIn[35], line 1\u001B[0m\n\u001B[1;32m----> 1\u001B[0m \u001B[43mone\u001B[49m\u001B[43m \u001B[49m\u001B[38;5;241;43m+\u001B[39;49m\u001B[43m \u001B[49m\u001B[43mtwo\u001B[49m \u001B[38;5;66;03m# not possible, Python is strongly typed, never convert types in unexpected ways.\u001B[39;00m\n",
      "\u001B[1;31mTypeError\u001B[0m: unsupported operand type(s) for +: 'int' and 'str'"
     ]
    }
   ],
   "source": [
    "one + two # not possible, Python is strongly typed, never convert types in unexpected ways."
   ],
   "metadata": {
    "collapsed": false,
    "ExecuteTime": {
     "end_time": "2023-09-20T19:20:56.562970700Z",
     "start_time": "2023-09-20T19:20:56.527975800Z"
    }
   }
  },
  {
   "cell_type": "code",
   "execution_count": 43,
   "outputs": [
    {
     "name": "stdout",
     "output_type": "stream",
     "text": [
      "3\n",
      "12\n"
     ]
    }
   ],
   "source": [
    "print(one + int(two))\n",
    "print(str(one) + two)"
   ],
   "metadata": {
    "collapsed": false,
    "ExecuteTime": {
     "end_time": "2023-09-20T19:24:42.220231700Z",
     "start_time": "2023-09-20T19:24:42.197545100Z"
    }
   }
  },
  {
   "cell_type": "code",
   "execution_count": 34,
   "outputs": [
    {
     "name": "stdout",
     "output_type": "stream",
     "text": [
      "2.5\n"
     ]
    },
    {
     "ename": "ValueError",
     "evalue": "invalid literal for int() with base 10: '2.5'",
     "output_type": "error",
     "traceback": [
      "\u001B[1;31m---------------------------------------------------------------------------\u001B[0m",
      "\u001B[1;31mValueError\u001B[0m                                Traceback (most recent call last)",
      "Cell \u001B[1;32mIn[34], line 3\u001B[0m\n\u001B[0;32m      1\u001B[0m \u001B[38;5;66;03m# string can be retyped to number if it is possible from the string itself\u001B[39;00m\n\u001B[0;32m      2\u001B[0m \u001B[38;5;28mprint\u001B[39m(\u001B[38;5;28mfloat\u001B[39m(\u001B[38;5;124m\"\u001B[39m\u001B[38;5;124m2.5\u001B[39m\u001B[38;5;124m\"\u001B[39m))\n\u001B[1;32m----> 3\u001B[0m \u001B[38;5;28mprint\u001B[39m(\u001B[38;5;28;43mint\u001B[39;49m\u001B[43m(\u001B[49m\u001B[38;5;124;43m\"\u001B[39;49m\u001B[38;5;124;43m2.5\u001B[39;49m\u001B[38;5;124;43m\"\u001B[39;49m\u001B[43m)\u001B[49m)\n",
      "\u001B[1;31mValueError\u001B[0m: invalid literal for int() with base 10: '2.5'"
     ]
    }
   ],
   "source": [
    "# string can be converted to number if it is possible from the string itself\n",
    "print(float(\"2.5\"))\n",
    "print(int(\"2.5\"))"
   ],
   "metadata": {
    "collapsed": false,
    "ExecuteTime": {
     "end_time": "2023-09-20T19:15:14.994672Z",
     "start_time": "2023-09-20T19:15:14.941476100Z"
    }
   }
  },
  {
   "cell_type": "code",
   "execution_count": 36,
   "outputs": [
    {
     "name": "stdout",
     "output_type": "stream",
     "text": [
      "2\n",
      "2\n"
     ]
    }
   ],
   "source": [
    "# string can be converted to number from different bases\n",
    "print(int(\"010\", base=2)) # binary format\n",
    "print(int(\"02\", base=16)) # hexadecimal format"
   ],
   "metadata": {
    "collapsed": false,
    "ExecuteTime": {
     "end_time": "2023-09-20T19:21:35.633627800Z",
     "start_time": "2023-09-20T19:21:35.616617500Z"
    }
   }
  },
  {
   "cell_type": "markdown",
   "source": [
    "### Arithmetic operators"
   ],
   "metadata": {
    "collapsed": false
   }
  },
  {
   "cell_type": "code",
   "execution_count": 45,
   "outputs": [
    {
     "name": "stdout",
     "output_type": "stream",
     "text": [
      "Addition: 1 + 2 = 3\n",
      "Subtraction: 1 - 2 = -1\n",
      "Multiplication: 1 * 2 = 2\n",
      "Division: 1 / 2 = 0.5\n",
      "Floor division: 1 // 2 = 3\n",
      "Modulus: 1 % 2 = 3\n",
      "Exponentiation: 2 ** 3 = 8\n"
     ]
    }
   ],
   "source": [
    "print(f'Addition: 1 + 2 = {1+2}')\n",
    "print(f'Subtraction: 1 - 2 = {1-2}')\n",
    "print(f'Multiplication: 1 * 2 = {1*2}')\n",
    "print(f'Division: 1 / 2 = {1/2}')\n",
    "print(f'Floor division: 1 // 2 = {1+2}')\n",
    "print(f'Modulus: 1 % 2 = {1+2}')\n",
    "print(f'Exponentiation: 2 ** 3 = {2**3}')"
   ],
   "metadata": {
    "collapsed": false,
    "ExecuteTime": {
     "end_time": "2023-09-20T19:26:38.868948100Z",
     "start_time": "2023-09-20T19:26:38.857930100Z"
    }
   }
  },
  {
   "cell_type": "markdown",
   "source": [
    "### Bitwise operators"
   ],
   "metadata": {
    "collapsed": false
   }
  },
  {
   "cell_type": "code",
   "execution_count": 61,
   "outputs": [
    {
     "name": "stdout",
     "output_type": "stream",
     "text": [
      "AND: `0100` & `1110` = 0b100\n",
      "OR: `0100` | `1110` = 0b1110\n",
      "XOR: `0100` ^ `1110` = 0b1010\n",
      "Zero fill left shift: `0100` << 2 = 0b10000\n",
      "Zero fill right shift: `0100` >> 2 = 0b1\n"
     ]
    }
   ],
   "source": [
    "first = 0b0100\n",
    "second = 0b1110\n",
    "\n",
    "print(f'AND: `0100` & `1110` = {bin(first & second)}')\n",
    "print(f'OR: `0100` | `1110` = {bin(first | second)}')\n",
    "print(f'XOR: `0100` ^ `1110` = {bin(first ^ second)}')\n",
    "print(f'Zero fill left shift: `0100` << 2 = {bin(first << 2)}')\n",
    "print(f'Zero fill right shift: `0100` >> 2 = {bin(first >> 2)}')"
   ],
   "metadata": {
    "collapsed": false,
    "ExecuteTime": {
     "end_time": "2023-09-20T19:35:59.198774Z",
     "start_time": "2023-09-20T19:35:59.185777400Z"
    }
   }
  },
  {
   "cell_type": "markdown",
   "source": [
    "## Collections\n",
    "### Lists\n",
    "Lists are used to store multiple items in a single variable - array. List items are ordered, changeable, and allow duplicate values. List can hold items of different types."
   ],
   "metadata": {
    "collapsed": false
   }
  },
  {
   "cell_type": "code",
   "execution_count": 71,
   "outputs": [
    {
     "name": "stdout",
     "output_type": "stream",
     "text": [
      "<class 'list'> ['string', 3, True, 4.5]\n",
      "first item of list: my_list[0] = string\n",
      "last item of list: my_list[-1] = 4.5\n",
      "sublist of items at positions 1 and 2: my_list[1:3] = [3, True]\n",
      "reversed list (start:stop:step) my_list[-1::-1] = [4.5, True, 3, 'string']\n",
      "my_list[0::2] = ['string', True]\n"
     ]
    }
   ],
   "source": [
    "my_list = [\"string\", 3, True, 4.5]\n",
    "print(type(my_list), my_list)\n",
    "print(f'first item of list: my_list[0] = {my_list[0]}')\n",
    "print(f'last item of list: my_list[-1] = {my_list[-1]}')\n",
    "print(f'sublist of items at positions 1 and 2: my_list[1:3] = {my_list[1:3]}')\n",
    "print(f'reversed list (start:stop:step) my_list[-1::-1] = {my_list[-1::-1]}')\n",
    "print(f'my_list[0::2] = {my_list[0::2]}')"
   ],
   "metadata": {
    "collapsed": false,
    "ExecuteTime": {
     "end_time": "2023-09-20T19:46:09.669206Z",
     "start_time": "2023-09-20T19:46:09.621057500Z"
    }
   }
  },
  {
   "cell_type": "code",
   "execution_count": 83,
   "outputs": [
    {
     "name": "stdout",
     "output_type": "stream",
     "text": [
      "['string', 3, True, 4.5]\n",
      "['string', 'a', True, 4.5]\n",
      "['string', 4, 5, 4.5]\n",
      "['string', 4, 5, 4.5, 'appended']\n",
      "appended\n",
      "['string', 4, 5, 4.5]\n",
      "Length of my_list = 4\n",
      "[4, 5, 4.5]\n",
      "[4, 5, 'inserted to position 2', 4.5]\n",
      "\"inserted to position 2\" is at position 2\n"
     ]
    }
   ],
   "source": [
    "my_list = [\"string\", 3, True, 4.5]\n",
    "print(my_list)\n",
    "\n",
    "my_list[1] = 'a'\n",
    "print(my_list)\n",
    "\n",
    "my_list[1:3] = [4, 5]\n",
    "print(my_list)\n",
    "\n",
    "my_list.append('appended')\n",
    "print(my_list)\n",
    "\n",
    "print(my_list.pop(-1)) # remove item from list and return it\n",
    "print(my_list)\n",
    "\n",
    "print(f'Length of my_list = {len(my_list)}')\n",
    "\n",
    "my_list.remove(\"string\")\n",
    "print(my_list)\n",
    "\n",
    "my_list.insert(2, 'inserted to position 2')\n",
    "print(my_list)\n",
    "\n",
    "print(f'\"inserted to position 2\" is at position {my_list.index(\"inserted to position 2\")}')\n"
   ],
   "metadata": {
    "collapsed": false,
    "ExecuteTime": {
     "end_time": "2023-09-20T19:52:56.592008Z",
     "start_time": "2023-09-20T19:52:56.578009Z"
    }
   }
  },
  {
   "cell_type": "code",
   "execution_count": 84,
   "outputs": [
    {
     "data": {
      "text/plain": "[1, 2, 3, 'one']"
     },
     "execution_count": 84,
     "metadata": {},
     "output_type": "execute_result"
    }
   ],
   "source": [
    "[1, 2, 3] + [4, 5] # sum of two lists"
   ],
   "metadata": {
    "collapsed": false,
    "ExecuteTime": {
     "end_time": "2023-09-20T19:53:56.068255Z",
     "start_time": "2023-09-20T19:53:56.034801700Z"
    }
   }
  },
  {
   "cell_type": "code",
   "execution_count": 85,
   "outputs": [
    {
     "data": {
      "text/plain": "[1, 2, 3, 1, 2, 3, 1, 2, 3]"
     },
     "execution_count": 85,
     "metadata": {},
     "output_type": "execute_result"
    }
   ],
   "source": [
    "[1, 2, 3] * 3 # list multiplication"
   ],
   "metadata": {
    "collapsed": false,
    "ExecuteTime": {
     "end_time": "2023-09-20T19:54:34.671316500Z",
     "start_time": "2023-09-20T19:54:34.651299800Z"
    }
   }
  },
  {
   "cell_type": "code",
   "execution_count": 88,
   "outputs": [
    {
     "name": "stdout",
     "output_type": "stream",
     "text": [
      "4\n"
     ]
    }
   ],
   "source": [
    "my_list = [[1, 2], [3, 4], [5, 6]] # list of lists as multidimensional array\n",
    "print(my_list[1][1])"
   ],
   "metadata": {
    "collapsed": false,
    "ExecuteTime": {
     "end_time": "2023-09-20T19:56:18.728488300Z",
     "start_time": "2023-09-20T19:56:18.711484100Z"
    }
   }
  },
  {
   "cell_type": "markdown",
   "source": [
    "### Tuples\n",
    "Tuples are same as Lists, but unchangeable."
   ],
   "metadata": {
    "collapsed": false
   }
  },
  {
   "cell_type": "code",
   "execution_count": 90,
   "outputs": [
    {
     "name": "stdout",
     "output_type": "stream",
     "text": [
      "(1, 2, 'three')\n",
      "three\n"
     ]
    }
   ],
   "source": [
    "my_tuple = (1, 2, 'three')\n",
    "print(my_tuple)\n",
    "print(my_tuple[-1])"
   ],
   "metadata": {
    "collapsed": false,
    "ExecuteTime": {
     "end_time": "2023-09-20T19:57:56.505846800Z",
     "start_time": "2023-09-20T19:57:56.487946100Z"
    }
   }
  },
  {
   "cell_type": "code",
   "execution_count": 106,
   "outputs": [
    {
     "ename": "TypeError",
     "evalue": "'tuple' object does not support item assignment",
     "output_type": "error",
     "traceback": [
      "\u001B[1;31m---------------------------------------------------------------------------\u001B[0m",
      "\u001B[1;31mTypeError\u001B[0m                                 Traceback (most recent call last)",
      "Cell \u001B[1;32mIn[106], line 1\u001B[0m\n\u001B[1;32m----> 1\u001B[0m \u001B[43mmy_tuple\u001B[49m\u001B[43m[\u001B[49m\u001B[38;5;241;43m0\u001B[39;49m\u001B[43m]\u001B[49m \u001B[38;5;241m=\u001B[39m \u001B[38;5;124m'\u001B[39m\u001B[38;5;124mnot allowed\u001B[39m\u001B[38;5;124m'\u001B[39m\n",
      "\u001B[1;31mTypeError\u001B[0m: 'tuple' object does not support item assignment"
     ]
    }
   ],
   "source": [
    "my_tuple[0] = 'not allowed'"
   ],
   "metadata": {
    "collapsed": false,
    "ExecuteTime": {
     "end_time": "2023-09-20T20:05:53.572352200Z",
     "start_time": "2023-09-20T20:05:53.538340900Z"
    }
   }
  },
  {
   "cell_type": "markdown",
   "source": [
    "### Sets\n",
    "Sets are a collection which is unordered, unchangeable*, and unindexed. No duplicate members."
   ],
   "metadata": {
    "collapsed": false
   }
  },
  {
   "cell_type": "code",
   "execution_count": 92,
   "outputs": [],
   "source": [
    "my_set = {1, 5, 8}"
   ],
   "metadata": {
    "collapsed": false,
    "ExecuteTime": {
     "end_time": "2023-09-20T19:59:33.641156900Z",
     "start_time": "2023-09-20T19:59:33.594254300Z"
    }
   }
  },
  {
   "cell_type": "code",
   "execution_count": 94,
   "outputs": [
    {
     "ename": "TypeError",
     "evalue": "'set' object is not subscriptable",
     "output_type": "error",
     "traceback": [
      "\u001B[1;31m---------------------------------------------------------------------------\u001B[0m",
      "\u001B[1;31mTypeError\u001B[0m                                 Traceback (most recent call last)",
      "Cell \u001B[1;32mIn[94], line 1\u001B[0m\n\u001B[1;32m----> 1\u001B[0m \u001B[43mmy_set\u001B[49m\u001B[43m[\u001B[49m\u001B[38;5;241;43m1\u001B[39;49m\u001B[43m]\u001B[49m \u001B[38;5;66;03m# is unordered, indexing is nonsense\u001B[39;00m\n",
      "\u001B[1;31mTypeError\u001B[0m: 'set' object is not subscriptable"
     ]
    }
   ],
   "source": [
    "my_set[1] # is unordered, indexing is nonsense"
   ],
   "metadata": {
    "collapsed": false,
    "ExecuteTime": {
     "end_time": "2023-09-20T20:00:14.226375Z",
     "start_time": "2023-09-20T20:00:14.177032300Z"
    }
   }
  },
  {
   "cell_type": "code",
   "execution_count": 96,
   "outputs": [
    {
     "data": {
      "text/plain": "True"
     },
     "execution_count": 96,
     "metadata": {},
     "output_type": "execute_result"
    }
   ],
   "source": [
    "1 in my_set"
   ],
   "metadata": {
    "collapsed": false,
    "ExecuteTime": {
     "end_time": "2023-09-20T20:00:50.556444700Z",
     "start_time": "2023-09-20T20:00:50.536415300Z"
    }
   }
  },
  {
   "cell_type": "code",
   "execution_count": 97,
   "outputs": [
    {
     "data": {
      "text/plain": "False"
     },
     "execution_count": 97,
     "metadata": {},
     "output_type": "execute_result"
    }
   ],
   "source": [
    "1 not in my_set"
   ],
   "metadata": {
    "collapsed": false,
    "ExecuteTime": {
     "end_time": "2023-09-20T20:01:01.769978600Z",
     "start_time": "2023-09-20T20:01:01.731974800Z"
    }
   }
  },
  {
   "cell_type": "code",
   "execution_count": 105,
   "outputs": [
    {
     "name": "stdout",
     "output_type": "stream",
     "text": [
      "{1, 2, 4, 5, 8}\n"
     ]
    }
   ],
   "source": [
    "my_second_set = {1, 2, 5, 8}\n",
    "print(my_set.union(my_second_set)) # union of sets, no duplicates members"
   ],
   "metadata": {
    "collapsed": false,
    "ExecuteTime": {
     "end_time": "2023-09-20T20:05:41.986974100Z",
     "start_time": "2023-09-20T20:05:41.972962800Z"
    }
   }
  },
  {
   "cell_type": "code",
   "execution_count": 104,
   "outputs": [
    {
     "name": "stdout",
     "output_type": "stream",
     "text": [
      "{8, 1, 5}\n",
      "{8, 1, 4, 5}\n",
      "{1, 4, 5}\n"
     ]
    }
   ],
   "source": [
    "# set is unchangeable in meaning of set item value. Adding or removing of items is allowed\n",
    "my_set = {1, 5, 8}\n",
    "print(my_set)\n",
    "my_set.add(4)\n",
    "print(my_set)\n",
    "my_set.remove(8)\n",
    "print(my_set)\n"
   ],
   "metadata": {
    "collapsed": false,
    "ExecuteTime": {
     "end_time": "2023-09-20T20:05:07.123538500Z",
     "start_time": "2023-09-20T20:05:07.107523900Z"
    }
   }
  },
  {
   "cell_type": "markdown",
   "source": [
    "### Dictionaries\n",
    "Dictionaries are a collection which is ordered (from python 3.7) and changeable. Dictionaries are used to store data values in key:value pairs. No duplicate members (keys)."
   ],
   "metadata": {
    "collapsed": false
   }
  },
  {
   "cell_type": "code",
   "execution_count": 115,
   "outputs": [
    {
     "name": "stdout",
     "output_type": "stream",
     "text": [
      "{'name': 'Jane Doe', 'age': 24, 'occupation': 'student'}\n",
      "24\n",
      "{'name': 'Jane Doe', 'age': 25, 'occupation': 'student'}\n",
      "25\n",
      "{'name': 'Jane Doe', 'occupation': 'student'}\n",
      "False\n",
      "True\n",
      "{'name': 'Jane Doe', 'occupation': 'student', 'age': 25}\n"
     ]
    }
   ],
   "source": [
    "my_dict = {'name': 'Jane Doe',\n",
    "           'age': 24,\n",
    "           'occupation': 'student'}\n",
    "\n",
    "print(my_dict)\n",
    "print(my_dict['age'])\n",
    "my_dict['age'] = 25 # indexed by key\n",
    "print(my_dict)\n",
    "print(my_dict.pop('age'))\n",
    "print(my_dict)\n",
    "print('age' in my_dict.keys())\n",
    "print('student' in my_dict.values())\n",
    "my_dict['age'] = 25\n",
    "print(my_dict) # see the change of order"
   ],
   "metadata": {
    "collapsed": false,
    "ExecuteTime": {
     "end_time": "2023-09-20T20:13:22.828169200Z",
     "start_time": "2023-09-20T20:13:22.787158800Z"
    }
   }
  },
  {
   "cell_type": "code",
   "execution_count": 116,
   "outputs": [
    {
     "name": "stdout",
     "output_type": "stream",
     "text": [
      "{1: {'name': 'Jane Doe', 'age': 24, 'occupation': 'student'}, 2: {'name': 'Jon Doe', 'age': 25, 'occupation': 'student'}}\n"
     ]
    }
   ],
   "source": [
    "# Dictionary of dictionaries\n",
    "my_dict_1 = {'name': 'Jane Doe',\n",
    "             'age': 24,\n",
    "             'occupation': 'student'}\n",
    "my_dict_2 = {'name': 'Jon Doe',\n",
    "             'age': 25,\n",
    "             'occupation': 'student'}\n",
    "students = {1: my_dict_1,\n",
    "            2: my_dict_2}\n",
    "print(students)"
   ],
   "metadata": {
    "collapsed": false,
    "ExecuteTime": {
     "end_time": "2023-09-20T20:15:39.301822500Z",
     "start_time": "2023-09-20T20:15:39.273390800Z"
    }
   }
  },
  {
   "cell_type": "code",
   "execution_count": 118,
   "outputs": [
    {
     "name": "stdout",
     "output_type": "stream",
     "text": [
      "{'s1': {'name': 'Jane Doe', 'age': 24, 'occupation': 'student'}, 's2': {'name': 'Jon Doe', 'age': 25, 'occupation': 'student'}}\n"
     ]
    }
   ],
   "source": [
    "# Dictionary can be made by constructor, but keys have to be strings\n",
    "my_dict_1 = dict(name='Jane Doe',\n",
    "                 age=24,\n",
    "                 occupation='student')\n",
    "my_dict_2 = dict(name='Jon Doe',\n",
    "                 age=25,\n",
    "                 occupation='student')\n",
    "students = dict(s1=my_dict_1,\n",
    "                s2=my_dict_2)\n",
    "print(students)"
   ],
   "metadata": {
    "collapsed": false,
    "ExecuteTime": {
     "end_time": "2023-09-20T20:17:19.710490900Z",
     "start_time": "2023-09-20T20:17:19.693474600Z"
    }
   }
  },
  {
   "cell_type": "markdown",
   "source": [
    "## Program flow control\n",
    "### Statements if - elif - else\n"
   ],
   "metadata": {
    "collapsed": false
   }
  },
  {
   "cell_type": "code",
   "execution_count": 123,
   "outputs": [
    {
     "name": "stdout",
     "output_type": "stream",
     "text": [
      "It is True\n",
      "not in statement\n"
     ]
    }
   ],
   "source": [
    "a = 2\n",
    "\n",
    "if a < 3:\n",
    "    print(\"It is True\")\n",
    "elif a == 3:\n",
    "    print(\"in elif statement\")\n",
    "else:\n",
    "    print(\"I am in else\")\n",
    "\n",
    "print(\"not in statement\")"
   ],
   "metadata": {
    "collapsed": false,
    "ExecuteTime": {
     "end_time": "2023-09-20T20:19:14.362403100Z",
     "start_time": "2023-09-20T20:19:14.339397100Z"
    }
   }
  },
  {
   "cell_type": "markdown",
   "source": [
    "#### Python Comparison Operators"
   ],
   "metadata": {
    "collapsed": false
   }
  },
  {
   "cell_type": "code",
   "execution_count": 128,
   "outputs": [
    {
     "name": "stdout",
     "output_type": "stream",
     "text": [
      "Equal 1==2 : False; 1==1 : True\n",
      "Not equal 1!=2 : True; 1!=1 : False\n",
      "Greater then 1>2 : False; 1>0 : True\n",
      "Less then 1<2 : True; 1<0 : False\n",
      "Greater then or equal 1>=2 : False; 1>=1 : True\n",
      "Less then or equal 1<=2 : True; 1<=1 : True\n"
     ]
    }
   ],
   "source": [
    "print(f'Equal 1==2 : {1==2}; 1==1 : {1==1}')\n",
    "print(f'Not equal 1!=2 : {1!=2}; 1!=1 : {1!=1}')\n",
    "print(f'Greater then 1>2 : {1>2}; 1>0 : {1>0}')\n",
    "print(f'Less then 1<2 : {1<2}; 1<0 : {1<0}')\n",
    "print(f'Greater then or equal 1>=2 : {1>=2}; 1>=1 : {1>=1}')\n",
    "print(f'Less then or equal 1<=2 : {1<=2}; 1<=1 : {1<=1}')"
   ],
   "metadata": {
    "collapsed": false,
    "ExecuteTime": {
     "end_time": "2023-09-20T20:22:42.847766Z",
     "start_time": "2023-09-20T20:22:42.830452700Z"
    }
   }
  },
  {
   "cell_type": "markdown",
   "source": [
    "#### Python Logical Operators\n",
    "Logical operators are used to combine conditional statements"
   ],
   "metadata": {
    "collapsed": false
   }
  },
  {
   "cell_type": "code",
   "execution_count": 132,
   "outputs": [
    {
     "name": "stdout",
     "output_type": "stream",
     "text": [
      "2 is equal to `a` and less then `b` : True\n",
      "2 is equal to `a` and equal to `b` : False\n",
      "2 is equal to `a` or equal to `b` : True\n",
      "2 is is equal to `a` and not less then `b` : False\n"
     ]
    }
   ],
   "source": [
    "a = 2\n",
    "b = 3\n",
    "print(f'2 is equal to `a` and less then `b` : {2==a and 2<b}')\n",
    "print(f'2 is equal to `a` and equal to `b` : {2==a and 2==b}')\n",
    "print(f'2 is equal to `a` or equal to `b` : {2==a or 2==b}')\n",
    "print(f'2 is is equal to `a` and not less then `b` : {2==a and not 2<b}')\n"
   ],
   "metadata": {
    "collapsed": false,
    "ExecuteTime": {
     "end_time": "2023-09-20T20:26:31.435866500Z",
     "start_time": "2023-09-20T20:26:31.419872Z"
    }
   }
  },
  {
   "cell_type": "markdown",
   "source": [
    "#### Python Identity Operators\n",
    "Identity operators are used to compare the objects, not if they are equal, but if they are actually the same object, with the same memory location:"
   ],
   "metadata": {
    "collapsed": false
   }
  },
  {
   "cell_type": "code",
   "execution_count": 136,
   "outputs": [
    {
     "name": "stdout",
     "output_type": "stream",
     "text": [
      "a is b: True\n",
      "c is d: False\n",
      "c is not d: True\n"
     ]
    }
   ],
   "source": [
    "a = 2\n",
    "b = 2\n",
    "c = 5000\n",
    "d = 5000\n",
    "print(f'a is b: {a is b}')\n",
    "print(f'c is d: {c is d}')\n",
    "print(f'c is not d: {c is not d}')\n",
    "# Why?! Because in Python the low integers are in memory only ones (the interpreter itself use a lot of them, it is saving a memory)"
   ],
   "metadata": {
    "collapsed": false,
    "ExecuteTime": {
     "end_time": "2023-09-20T20:30:33.421320400Z",
     "start_time": "2023-09-20T20:30:33.396304700Z"
    }
   }
  },
  {
   "cell_type": "markdown",
   "source": [
    "#### Python Membership Operators\n",
    "Membership operators are used to test if a sequence is presented in an object."
   ],
   "metadata": {
    "collapsed": false
   }
  },
  {
   "cell_type": "code",
   "execution_count": 139,
   "outputs": [
    {
     "name": "stdout",
     "output_type": "stream",
     "text": [
      "True\n",
      "False\n",
      "False\n",
      "True\n"
     ]
    }
   ],
   "source": [
    "print(1 in [1, 2, 3])\n",
    "print(1 not in [1, 2, 3])\n",
    "print(1 in [2, 3])\n",
    "print(1 not in [2, 3])"
   ],
   "metadata": {
    "collapsed": false,
    "ExecuteTime": {
     "end_time": "2023-09-20T20:32:07.844403300Z",
     "start_time": "2023-09-20T20:32:07.818383600Z"
    }
   }
  },
  {
   "cell_type": "markdown",
   "source": [
    "### For cycle"
   ],
   "metadata": {
    "collapsed": false
   }
  },
  {
   "cell_type": "code",
   "execution_count": 141,
   "outputs": [
    {
     "name": "stdout",
     "output_type": "stream",
     "text": [
      "1\n",
      "2\n",
      "3\n"
     ]
    }
   ],
   "source": [
    "for i in [1, 2, 3]:\n",
    "    print(i)"
   ],
   "metadata": {
    "collapsed": false,
    "ExecuteTime": {
     "end_time": "2023-09-20T20:33:21.839104Z",
     "start_time": "2023-09-20T20:33:21.790177300Z"
    }
   }
  },
  {
   "cell_type": "code",
   "execution_count": 4,
   "outputs": [
    {
     "name": "stdout",
     "output_type": "stream",
     "text": [
      "1\n",
      "2\n",
      "4\n"
     ]
    }
   ],
   "source": [
    "# continue - skip current iteration\n",
    "# break - stop cycle\n",
    "for i in [1, 2, 3, 4, 5]:\n",
    "    if i == 3:\n",
    "        continue\n",
    "    elif i == 5:\n",
    "        break\n",
    "    else:\n",
    "        print(i)"
   ],
   "metadata": {
    "collapsed": false,
    "ExecuteTime": {
     "end_time": "2023-09-20T20:46:41.315997200Z",
     "start_time": "2023-09-20T20:46:41.263891200Z"
    }
   }
  },
  {
   "cell_type": "markdown",
   "source": [
    "Instead of mutable iterable objects (tuple, list ...), the immutable iterable objects or generators could be used in for cycle:"
   ],
   "metadata": {
    "collapsed": false
   }
  },
  {
   "cell_type": "code",
   "execution_count": 143,
   "outputs": [
    {
     "name": "stdout",
     "output_type": "stream",
     "text": [
      "2, 4, 6, "
     ]
    }
   ],
   "source": [
    "# the immutable iterable object `range(start, stop, step)`\n",
    "for i in range(2, 8, 2):\n",
    "    print(f'{i}, ', end='')"
   ],
   "metadata": {
    "collapsed": false,
    "ExecuteTime": {
     "end_time": "2023-09-20T20:37:47.272130200Z",
     "start_time": "2023-09-20T20:37:47.210125400Z"
    }
   }
  },
  {
   "cell_type": "code",
   "execution_count": 3,
   "outputs": [
    {
     "name": "stdout",
     "output_type": "stream",
     "text": [
      "2\n",
      "4\n"
     ]
    }
   ],
   "source": [
    "# the generator function (see functions and while cycle)\n",
    "def my_generator(start: int, end: int, step: int = 1):\n",
    "    num = start\n",
    "    while True:\n",
    "        if num < end:\n",
    "            yield  num\n",
    "            num += step\n",
    "        else:\n",
    "            break\n",
    "\n",
    "\n",
    "for i in my_generator(2, 5, 2):\n",
    "    print(i)"
   ],
   "metadata": {
    "collapsed": false,
    "ExecuteTime": {
     "end_time": "2023-09-20T20:44:51.927026400Z",
     "start_time": "2023-09-20T20:44:51.909945100Z"
    }
   }
  },
  {
   "cell_type": "markdown",
   "source": [
    "### While cycle\n",
    "Continues until the condition is fulfiled."
   ],
   "metadata": {
    "collapsed": false
   }
  },
  {
   "cell_type": "code",
   "execution_count": 5,
   "outputs": [
    {
     "name": "stdout",
     "output_type": "stream",
     "text": [
      "1\n",
      "2\n",
      "3\n",
      "4\n"
     ]
    }
   ],
   "source": [
    "i = 1\n",
    "while i < 5:\n",
    "    print(i)\n",
    "    i += 1"
   ],
   "metadata": {
    "collapsed": false,
    "ExecuteTime": {
     "end_time": "2023-09-20T20:47:53.875248400Z",
     "start_time": "2023-09-20T20:47:53.816231400Z"
    }
   }
  },
  {
   "cell_type": "markdown",
   "source": [
    "### Ternary operators"
   ],
   "metadata": {
    "collapsed": false
   }
  },
  {
   "cell_type": "code",
   "execution_count": 6,
   "outputs": [
    {
     "name": "stdout",
     "output_type": "stream",
     "text": [
      "a is 5\n",
      "a is 5\n"
     ]
    }
   ],
   "source": [
    "a = 5\n",
    "if a == 5:\n",
    "    print('a is 5')\n",
    "else:\n",
    "    print('a is not 5')\n",
    "\n",
    "# Via ternary operator\n",
    "\n",
    "print('a is 5' if a==5 else 'a is not 5')"
   ],
   "metadata": {
    "collapsed": false,
    "ExecuteTime": {
     "end_time": "2023-09-20T20:50:20.863741500Z",
     "start_time": "2023-09-20T20:50:20.795739800Z"
    }
   }
  },
  {
   "cell_type": "markdown",
   "source": [
    "### List comprehension"
   ],
   "metadata": {
    "collapsed": false
   }
  },
  {
   "cell_type": "code",
   "execution_count": 11,
   "outputs": [
    {
     "name": "stdout",
     "output_type": "stream",
     "text": [
      "[2, 4]\n",
      "[2, 4]\n"
     ]
    }
   ],
   "source": [
    "output = []\n",
    "for i in [1, 2, 3, 4, 5]:\n",
    "    if not i%2:\n",
    "        output.append(i)\n",
    "print(output)\n",
    "\n",
    "# is faster if it is defined as list comprehension\n",
    "\n",
    "output = [i for i in [1, 2, 3, 4, 5] if not i%2]\n",
    "print(output)"
   ],
   "metadata": {
    "collapsed": false,
    "ExecuteTime": {
     "end_time": "2023-09-20T20:53:17.598330300Z",
     "start_time": "2023-09-20T20:53:17.573313200Z"
    }
   }
  },
  {
   "cell_type": "markdown",
   "source": [
    "### Exceptions\n",
    "Exceptions (errors) can be handled by try - except - finally statements."
   ],
   "metadata": {
    "collapsed": false
   }
  },
  {
   "cell_type": "code",
   "execution_count": 20,
   "outputs": [
    {
     "name": "stdout",
     "output_type": "stream",
     "text": [
      "TypeError, try to convert b\n",
      "c is 8\n"
     ]
    }
   ],
   "source": [
    "a = 3\n",
    "b = '5'\n",
    "c = 0\n",
    "try:\n",
    "    c = a + b\n",
    "except TypeError as e: # if TypeError raised\n",
    "    print(f'TypeError, try to convert b')\n",
    "    c = a + int(b)\n",
    "finally: # this code is executed in any case\n",
    "    print(f'c is {c}')\n"
   ],
   "metadata": {
    "collapsed": false,
    "ExecuteTime": {
     "end_time": "2023-09-20T20:59:57.554610Z",
     "start_time": "2023-09-20T20:59:57.536393800Z"
    }
   }
  },
  {
   "cell_type": "markdown",
   "source": [
    "## Functions\n",
    "Defined by def statement. You can pass data, known as parameters, into a function.\n",
    "A function can return data as a result."
   ],
   "metadata": {
    "collapsed": false
   }
  },
  {
   "cell_type": "code",
   "execution_count": 23,
   "outputs": [
    {
     "ename": "SyntaxError",
     "evalue": "invalid syntax (4026287084.py, line 1)",
     "output_type": "error",
     "traceback": [
      "\u001B[1;36m  Cell \u001B[1;32mIn[23], line 1\u001B[1;36m\u001B[0m\n\u001B[1;33m    def our_fcn(a: int, b: int, c: int = 0) => int:\u001B[0m\n\u001B[1;37m                                            ^\u001B[0m\n\u001B[1;31mSyntaxError\u001B[0m\u001B[1;31m:\u001B[0m invalid syntax\n"
     ]
    }
   ],
   "source": [
    "def our_fcn(a: int, b: int, c: int = 0):\n",
    "    \"\"\"\n",
    "    Docstring of our_fcn.\n",
    "\n",
    "    :param a: non-default positional int parameter\n",
    "    :param b: non-default positional int parameter\n",
    "    :param c: default keyword int parameter, default=0\n",
    "    :return: int a + b - c\n",
    "    \"\"\"\n",
    "    # Quick check of valid types\n",
    "    assert isinstance(a, int)\n",
    "    assert isinstance(b, int)\n",
    "    assert isinstance(c, int)\n",
    "\n",
    "    return a + b - c\n",
    "\n",
    "print(our_fcn(1, 2))\n",
    "print(our_fcn(1, 2, 5))\n",
    "\n",
    "my_eq = our_fcn\n",
    "\n",
    "print(my_eq(1, 2))\n",
    "print(my_eq(1, 2.5))\n"
   ],
   "metadata": {
    "collapsed": false,
    "ExecuteTime": {
     "end_time": "2023-09-20T21:10:40.726929800Z",
     "start_time": "2023-09-20T21:10:40.693909500Z"
    }
   }
  },
  {
   "cell_type": "markdown",
   "source": [
    "## Classes\n",
    "A Class is the prescript for objects. By classes you can define you own objects."
   ],
   "metadata": {
    "collapsed": false
   }
  },
  {
   "cell_type": "code",
   "execution_count": 33,
   "outputs": [
    {
     "name": "stdout",
     "output_type": "stream",
     "text": [
      "3\n",
      "4\n",
      "'A' object has no attribute '__x'\n",
      "3125\n",
      "3\n",
      "4\n",
      "'B' object has no attribute '__x'\n",
      "3125\n",
      "3\n",
      "4\n",
      "'B' object has no attribute '_B__x'\n",
      "4\n",
      "This is class C instance with x = 2\n"
     ]
    }
   ],
   "source": [
    "class A:\n",
    "    def __init__(self, x): # constructor called when new instance is crated\n",
    "        self.x = x # attribute\n",
    "        self._x = x+1 # protected-like attribute\n",
    "        self.__x = x+2 # private-like attribute\n",
    "\n",
    "    def power(self, exponent):\n",
    "        return self.__x ** exponent\n",
    "\n",
    "instance_a = A(3) # it calls A.__init__(x) after new object is created\n",
    "print(instance_a.x)\n",
    "print(instance_a._x)\n",
    "try:\n",
    "    print(instance_a.__x)\n",
    "except Exception as e:\n",
    "    print(e)\n",
    "\n",
    "print(instance_a.power(5))\n",
    "\n",
    "# class inheritance\n",
    "\n",
    "class B(A): # B is child-class of A\n",
    "    def printx(self):\n",
    "        print(self.x)\n",
    "\n",
    "    def print_x(self):\n",
    "        print(self._x)\n",
    "\n",
    "    def print__x(self):\n",
    "        print(self.__x) # Will raise error it is not accessible from child class\n",
    "\n",
    "instance_b = B(3)\n",
    "print(instance_b.x)\n",
    "print(instance_b._x)\n",
    "try:\n",
    "    print(instance_b.__x)\n",
    "except Exception as e:\n",
    "    print(e)\n",
    "\n",
    "print(instance_b.power(5)) # OK, it calls the function of parent class\n",
    "\n",
    "try:\n",
    "    instance_b.printx()\n",
    "    instance_b.print_x()\n",
    "    instance_b.print__x()\n",
    "except Exception as e:\n",
    "    print(e)\n",
    "\n",
    "\n",
    "class C(B): # C is child-class of B\n",
    "    def __init__(self, x): # overdrives the parent constructor\n",
    "        super().__init__(x) # we have to call the parent constructor\n",
    "        self.__x = self.x+2 # now we can define private __x for class C\n",
    "\n",
    "    def print__x(self):\n",
    "        # We have to overdrive fcn from B to access __x of class C instead __x of class B\n",
    "        print(self.__x)\n",
    "\n",
    "    def __str__(self): # overdrive __str__ function that is called when the object is converted to str (e.q. print)\n",
    "        return f'This is class C instance with x = {self.x}'\n",
    "\n",
    "instance_c = C(2)\n",
    "instance_c.print__x()\n",
    "print(instance_c)"
   ],
   "metadata": {
    "collapsed": false,
    "ExecuteTime": {
     "end_time": "2023-09-20T21:28:05.939773700Z",
     "start_time": "2023-09-20T21:28:05.907730200Z"
    }
   }
  },
  {
   "cell_type": "code",
   "execution_count": null,
   "outputs": [],
   "source": [],
   "metadata": {
    "collapsed": false
   }
  }
 ],
 "metadata": {
  "kernelspec": {
   "display_name": "Python 3",
   "language": "python",
   "name": "python3"
  },
  "language_info": {
   "codemirror_mode": {
    "name": "ipython",
    "version": 2
   },
   "file_extension": ".py",
   "mimetype": "text/x-python",
   "name": "python",
   "nbconvert_exporter": "python",
   "pygments_lexer": "ipython2",
   "version": "2.7.6"
  }
 },
 "nbformat": 4,
 "nbformat_minor": 0
}
